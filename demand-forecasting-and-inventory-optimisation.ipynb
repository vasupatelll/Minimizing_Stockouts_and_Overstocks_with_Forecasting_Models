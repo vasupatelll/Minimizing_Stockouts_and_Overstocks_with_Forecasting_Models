{
 "cells": [
  {
   "cell_type": "markdown",
   "metadata": {},
   "source": [
    "# Predicting the Future of Product Sales and Crafting the Optimal Inventory Strategy\n",
    "\n"
   ]
  },
  {
   "cell_type": "markdown",
   "metadata": {},
   "source": [
    "\n",
    "<h1>Introduction</h1>\n"
   ]
  },
  {
   "cell_type": "markdown",
   "metadata": {},
   "source": [
    "<p>Navigating the ever-shifting landscape of customer demand is a core challenge that supply chain professionals face. Supply chain professionals often combine their expert intuition with some basic statistical techniques to infer the demand for products based on historical data. This process is relatively straightforward when dealing with smaller product categories and stable demand patterns. However, As businesses grow and encounter larger product categories with constantly shifting consumer demands, this traditional demand forecasting approach may not scale.\n",
    "</p>\n",
    "\n",
    "<p>\n",
    "In this notebook, we will explore a more modern and scalable alternative – a data-driven, programmatic approach to demand forecasting. We will build a demand forecasting model with Python. We will also use this model for inventory optimization, covering concepts like reorder points, safety stock, and economic order quantity (EOQ).\n",
    "</p>\n",
    "<p>\n",
    "Throughout this project, we will address two key business questions:\n",
    "</p>\n",
    "<ol>\n",
    "<li>\n",
    "<em>What is the demand forecast for the top-selling product in the next 24 months?</em>\n",
    "</li>\n",
    "<li>\n",
    "<em>What is the optimal inventory level for the product?</em>\n",
    "</li>\n",
    "</ol>\n",
    "<p>\n",
    "Join me on this exploration as we seek answers, and feel free to share your thoughts and feedback on my approach.\n",
    "</p>\n",
    "<p>You can find the source code for this project at my <a href=\"https://github.com/Simontagbor/supply-chain-demand-forecast\">github page.</a> You can also find the Jupyter notebook and the dataset on my <a href=\"https://www.kaggle.com/simontagbor/british-airways-predictive-ml\">kaggle page</a>.</p>\n",
    "</div>\n",
    "\n"
   ]
  },
  {
   "cell_type": "markdown",
   "metadata": {},
   "source": [
    "\n"
   ]
  },
  {
   "cell_type": "markdown",
   "metadata": {},
   "source": [
    "<h1>Project Outline</h1>\n",
    "<p>For this project, I completed the following tasks:</p>\n",
    "\n",
    "- [x] Performed Exploratory Data Analysis.\n",
    "- [x] Cleaned and Prepared the data for modeling.\n",
    "- [x] Conducted Time Series Modeling With Prophet.\n",
    "- [x] Evaluated the model performance.\n",
    "- [x] Interpret the model results and answer the business questions.\n"
   ]
  },
  {
   "cell_type": "markdown",
   "metadata": {},
   "source": [
    "## Problem Statement\n",
    "<div class=\"card\">\n",
    "  <p>Large product categories and constantly shifting consumer demand patterns introduce a scaling challenge for traditional demand forecasting techniques. There is a need for an approach that reduces the level of guesswork and reduces the avoidable costly outcomes of poor inventory optimizations.</p>\n",
    "</div>"
   ]
  },
  {
   "cell_type": "markdown",
   "metadata": {},
   "source": [
    "## Prerequisites\n",
    "<p> To follow along you need to have a basic understanding of the following:</p>\n",
    "<ul>\n",
    "<li>Python Programming. You can take a quick introduction to Python by following this <a href=\"https://www.pythonforbeginners.com/python-tutorial\">tutorial</a></li>\n",
    "<li>Time Series Analysis. You can take a quick <a href=\"https://zerotomastery.io/blog/time-series-forecasting-with-facebook-prophet/\">introduction to Time Series Analysis</a> </li>\n",
    "<li>Understanding of <a href=\"https://www.shipbob.com/inventory-management/inventory-optimization/\">Inventory Optimization techniques.</a> will be a plus</li>\n",
    "</ul>\n",
    "\n",
    "<p>If you're already familiar with these concepts, you're good to go!</p>\n"
   ]
  },
  {
   "cell_type": "markdown",
   "metadata": {},
   "source": [
    "\n",
    "\n",
    "<img src=\"https://media.giphy.com/media/v1.Y2lkPTc5MGI3NjExaGpxN21laHVsY3Ixc2tsYmFvcGpmMjR1aHo4MXBsejY4azlncHpndCZlcD12MV9pbnRlcm5hbF9naWZfYnlfaWQmY3Q9Zw/UxTBfyPE5JwRQbPCgU/giphy.gif\" alt=\"gif\" style=\"width: 40%; height: 100%;\">\t"
   ]
  },
  {
   "cell_type": "markdown",
   "metadata": {},
   "source": [
    "## Project Dependencies\n"
   ]
  },
  {
   "cell_type": "code",
   "execution_count": 1,
   "metadata": {},
   "outputs": [],
   "source": [
    "#| code-fold: true\n",
    "#| code-summary: \"Show the code\"\n",
    "# import project libraries\n",
    "import kagglehub\n",
    "import pandas as pd\n",
    "import numpy as np # for linear algebra\n",
    "import math # for math operations \n",
    "import seaborn as sns # for plotting\n",
    "\n",
    "# handling files\n",
    "import os \n",
    "import sys \n",
    "\n",
    "# data preprocessing\n",
    "from sklearn.preprocessing import LabelEncoder\n",
    "from sklearn.model_selection import train_test_split\n",
    "\n",
    "\n",
    "# Model Building and Fitting\n",
    "from sklearn.ensemble import RandomForestClassifier\n",
    "from prophet import Prophet\n",
    "\n",
    "\n",
    "\n",
    "# Model Evaluation and Tuning\n",
    "from sklearn.metrics import accuracy_score, classification_report, confusion_matrix\n",
    "\n",
    "# visualization libraries\n",
    "import seaborn as sns\n",
    "import matplotlib.pyplot as plt\n",
    "import matplotlib.pyplot as plt # for plotting\n",
    "import squarify # for tree maps"
   ]
  },
  {
   "cell_type": "markdown",
   "metadata": {},
   "source": [
    "# Exploratory Data Analysis\n",
    "<p>\n",
    "The working <a href=\"https://www.kaggle.com/datasets/shashwatwork/dataco-smart-supply-chain-for-big-data-analysis\">dataset</a> contains entries of customer demand information The data contains 53 features (columns)\n",
    "</p>\n",
    "<p>\n",
    "To understand the data, let's perform some exploratory data analysis. We will  use the following techniques:\n",
    "</p>\n",
    "<ul class=\"task-list\">\n",
    "<li><input type=\"checkbox\" checked=\"\">Visual inspection of data.</li>\n",
    "<li><input type=\"checkbox\" checked=\"\">Exploratory Data Visualizations. (Univariate and Bivariate)</li>\n",
    "</ul>"
   ]
  },
  {
   "cell_type": "markdown",
   "metadata": {},
   "source": [
    "## Visual Inspection of Data"
   ]
  },
  {
   "cell_type": "code",
   "execution_count": null,
   "metadata": {},
   "outputs": [
    {
     "name": "stdout",
     "output_type": "stream",
     "text": [
      "Warning: Looks like you're using an outdated `kagglehub` version (installed: 0.3.7), please consider upgrading to the latest version (0.3.8).\n",
      "Path to dataset files: /Users/vasupatel/.cache/kagglehub/datasets/shashwatwork/dataco-smart-supply-chain-for-big-data-analysis/versions/1\n"
     ]
    }
   ],
   "source": [
    "\n",
    "# Download latest version\n",
    "# path = kagglehub.dataset_download(\"shashwatwork/dataco-smart-supply-chain-for-big-data-analysis\")\n",
    "\n",
    "# print(\"Path to dataset files:\", path)"
   ]
  },
  {
   "cell_type": "code",
   "execution_count": 2,
   "metadata": {},
   "outputs": [
    {
     "data": {
      "text/html": [
       "<div>\n",
       "<style scoped>\n",
       "    .dataframe tbody tr th:only-of-type {\n",
       "        vertical-align: middle;\n",
       "    }\n",
       "\n",
       "    .dataframe tbody tr th {\n",
       "        vertical-align: top;\n",
       "    }\n",
       "\n",
       "    .dataframe thead th {\n",
       "        text-align: right;\n",
       "    }\n",
       "</style>\n",
       "<table border=\"1\" class=\"dataframe\">\n",
       "  <thead>\n",
       "    <tr style=\"text-align: right;\">\n",
       "      <th></th>\n",
       "      <th>Type</th>\n",
       "      <th>Days for shipping (real)</th>\n",
       "      <th>Days for shipment (scheduled)</th>\n",
       "      <th>Benefit per order</th>\n",
       "      <th>Sales per customer</th>\n",
       "      <th>Delivery Status</th>\n",
       "      <th>Late_delivery_risk</th>\n",
       "      <th>Category Id</th>\n",
       "      <th>Category Name</th>\n",
       "      <th>Customer City</th>\n",
       "      <th>...</th>\n",
       "      <th>Order Zipcode</th>\n",
       "      <th>Product Card Id</th>\n",
       "      <th>Product Category Id</th>\n",
       "      <th>Product Description</th>\n",
       "      <th>Product Image</th>\n",
       "      <th>Product Name</th>\n",
       "      <th>Product Price</th>\n",
       "      <th>Product Status</th>\n",
       "      <th>shipping date (DateOrders)</th>\n",
       "      <th>Shipping Mode</th>\n",
       "    </tr>\n",
       "  </thead>\n",
       "  <tbody>\n",
       "    <tr>\n",
       "      <th>0</th>\n",
       "      <td>DEBIT</td>\n",
       "      <td>3</td>\n",
       "      <td>4</td>\n",
       "      <td>91.250000</td>\n",
       "      <td>314.640015</td>\n",
       "      <td>Advance shipping</td>\n",
       "      <td>0</td>\n",
       "      <td>73</td>\n",
       "      <td>Sporting Goods</td>\n",
       "      <td>Caguas</td>\n",
       "      <td>...</td>\n",
       "      <td>NaN</td>\n",
       "      <td>1360</td>\n",
       "      <td>73</td>\n",
       "      <td>NaN</td>\n",
       "      <td>http://images.acmesports.sports/Smart+watch</td>\n",
       "      <td>Smart watch</td>\n",
       "      <td>327.75</td>\n",
       "      <td>0</td>\n",
       "      <td>2/3/2018 22:56</td>\n",
       "      <td>Standard Class</td>\n",
       "    </tr>\n",
       "    <tr>\n",
       "      <th>1</th>\n",
       "      <td>TRANSFER</td>\n",
       "      <td>5</td>\n",
       "      <td>4</td>\n",
       "      <td>-249.089996</td>\n",
       "      <td>311.359985</td>\n",
       "      <td>Late delivery</td>\n",
       "      <td>1</td>\n",
       "      <td>73</td>\n",
       "      <td>Sporting Goods</td>\n",
       "      <td>Caguas</td>\n",
       "      <td>...</td>\n",
       "      <td>NaN</td>\n",
       "      <td>1360</td>\n",
       "      <td>73</td>\n",
       "      <td>NaN</td>\n",
       "      <td>http://images.acmesports.sports/Smart+watch</td>\n",
       "      <td>Smart watch</td>\n",
       "      <td>327.75</td>\n",
       "      <td>0</td>\n",
       "      <td>1/18/2018 12:27</td>\n",
       "      <td>Standard Class</td>\n",
       "    </tr>\n",
       "  </tbody>\n",
       "</table>\n",
       "<p>2 rows × 53 columns</p>\n",
       "</div>"
      ],
      "text/plain": [
       "       Type  Days for shipping (real)  Days for shipment (scheduled)  \\\n",
       "0     DEBIT                         3                              4   \n",
       "1  TRANSFER                         5                              4   \n",
       "\n",
       "   Benefit per order  Sales per customer   Delivery Status  \\\n",
       "0          91.250000          314.640015  Advance shipping   \n",
       "1        -249.089996          311.359985     Late delivery   \n",
       "\n",
       "   Late_delivery_risk  Category Id   Category Name Customer City  ...  \\\n",
       "0                   0           73  Sporting Goods        Caguas  ...   \n",
       "1                   1           73  Sporting Goods        Caguas  ...   \n",
       "\n",
       "  Order Zipcode Product Card Id Product Category Id  Product Description  \\\n",
       "0           NaN            1360                  73                  NaN   \n",
       "1           NaN            1360                  73                  NaN   \n",
       "\n",
       "                                  Product Image  Product Name Product Price  \\\n",
       "0  http://images.acmesports.sports/Smart+watch   Smart watch         327.75   \n",
       "1  http://images.acmesports.sports/Smart+watch   Smart watch         327.75   \n",
       "\n",
       "  Product Status shipping date (DateOrders)   Shipping Mode  \n",
       "0              0             2/3/2018 22:56  Standard Class  \n",
       "1              0            1/18/2018 12:27  Standard Class  \n",
       "\n",
       "[2 rows x 53 columns]"
      ]
     },
     "execution_count": 2,
     "metadata": {},
     "output_type": "execute_result"
    }
   ],
   "source": [
    "file_path = \"/Users/vasupatel/Documents/Winter Quarter/Gen AI/archive/DataCoSupplyChainDataset.csv\"\n",
    "df = pd.read_csv( file_path, encoding=\"ISO-8859-1\")\n",
    "df.head(2)"
   ]
  },
  {
   "cell_type": "markdown",
   "metadata": {},
   "source": [
    "<p>To explore the spread of the data, we will use the describe() method to get the summary statistics of the data.</p>"
   ]
  },
  {
   "cell_type": "code",
   "execution_count": 3,
   "metadata": {},
   "outputs": [
    {
     "data": {
      "text/html": [
       "<div>\n",
       "<style scoped>\n",
       "    .dataframe tbody tr th:only-of-type {\n",
       "        vertical-align: middle;\n",
       "    }\n",
       "\n",
       "    .dataframe tbody tr th {\n",
       "        vertical-align: top;\n",
       "    }\n",
       "\n",
       "    .dataframe thead th {\n",
       "        text-align: right;\n",
       "    }\n",
       "</style>\n",
       "<table border=\"1\" class=\"dataframe\">\n",
       "  <thead>\n",
       "    <tr style=\"text-align: right;\">\n",
       "      <th></th>\n",
       "      <th>Days for shipping (real)</th>\n",
       "      <th>Days for shipment (scheduled)</th>\n",
       "      <th>Benefit per order</th>\n",
       "      <th>Sales per customer</th>\n",
       "      <th>Late_delivery_risk</th>\n",
       "      <th>Category Id</th>\n",
       "      <th>Customer Id</th>\n",
       "      <th>Customer Zipcode</th>\n",
       "      <th>Department Id</th>\n",
       "      <th>Latitude</th>\n",
       "      <th>...</th>\n",
       "      <th>Order Item Quantity</th>\n",
       "      <th>Sales</th>\n",
       "      <th>Order Item Total</th>\n",
       "      <th>Order Profit Per Order</th>\n",
       "      <th>Order Zipcode</th>\n",
       "      <th>Product Card Id</th>\n",
       "      <th>Product Category Id</th>\n",
       "      <th>Product Description</th>\n",
       "      <th>Product Price</th>\n",
       "      <th>Product Status</th>\n",
       "    </tr>\n",
       "  </thead>\n",
       "  <tbody>\n",
       "    <tr>\n",
       "      <th>count</th>\n",
       "      <td>180519.000000</td>\n",
       "      <td>180519.000000</td>\n",
       "      <td>180519.000000</td>\n",
       "      <td>180519.000000</td>\n",
       "      <td>180519.000000</td>\n",
       "      <td>180519.000000</td>\n",
       "      <td>180519.000000</td>\n",
       "      <td>180516.000000</td>\n",
       "      <td>180519.000000</td>\n",
       "      <td>180519.000000</td>\n",
       "      <td>...</td>\n",
       "      <td>180519.000000</td>\n",
       "      <td>180519.000000</td>\n",
       "      <td>180519.000000</td>\n",
       "      <td>180519.000000</td>\n",
       "      <td>24840.000000</td>\n",
       "      <td>180519.000000</td>\n",
       "      <td>180519.000000</td>\n",
       "      <td>0.0</td>\n",
       "      <td>180519.000000</td>\n",
       "      <td>180519.0</td>\n",
       "    </tr>\n",
       "    <tr>\n",
       "      <th>mean</th>\n",
       "      <td>3.497654</td>\n",
       "      <td>2.931847</td>\n",
       "      <td>21.974989</td>\n",
       "      <td>183.107609</td>\n",
       "      <td>0.548291</td>\n",
       "      <td>31.851451</td>\n",
       "      <td>6691.379495</td>\n",
       "      <td>35921.126914</td>\n",
       "      <td>5.443460</td>\n",
       "      <td>29.719955</td>\n",
       "      <td>...</td>\n",
       "      <td>2.127638</td>\n",
       "      <td>203.772096</td>\n",
       "      <td>183.107609</td>\n",
       "      <td>21.974989</td>\n",
       "      <td>55426.132327</td>\n",
       "      <td>692.509764</td>\n",
       "      <td>31.851451</td>\n",
       "      <td>NaN</td>\n",
       "      <td>141.232550</td>\n",
       "      <td>0.0</td>\n",
       "    </tr>\n",
       "    <tr>\n",
       "      <th>std</th>\n",
       "      <td>1.623722</td>\n",
       "      <td>1.374449</td>\n",
       "      <td>104.433526</td>\n",
       "      <td>120.043670</td>\n",
       "      <td>0.497664</td>\n",
       "      <td>15.640064</td>\n",
       "      <td>4162.918106</td>\n",
       "      <td>37542.461122</td>\n",
       "      <td>1.629246</td>\n",
       "      <td>9.813646</td>\n",
       "      <td>...</td>\n",
       "      <td>1.453451</td>\n",
       "      <td>132.273077</td>\n",
       "      <td>120.043670</td>\n",
       "      <td>104.433526</td>\n",
       "      <td>31919.279101</td>\n",
       "      <td>336.446807</td>\n",
       "      <td>15.640064</td>\n",
       "      <td>NaN</td>\n",
       "      <td>139.732492</td>\n",
       "      <td>0.0</td>\n",
       "    </tr>\n",
       "    <tr>\n",
       "      <th>min</th>\n",
       "      <td>0.000000</td>\n",
       "      <td>0.000000</td>\n",
       "      <td>-4274.979980</td>\n",
       "      <td>7.490000</td>\n",
       "      <td>0.000000</td>\n",
       "      <td>2.000000</td>\n",
       "      <td>1.000000</td>\n",
       "      <td>603.000000</td>\n",
       "      <td>2.000000</td>\n",
       "      <td>-33.937553</td>\n",
       "      <td>...</td>\n",
       "      <td>1.000000</td>\n",
       "      <td>9.990000</td>\n",
       "      <td>7.490000</td>\n",
       "      <td>-4274.979980</td>\n",
       "      <td>1040.000000</td>\n",
       "      <td>19.000000</td>\n",
       "      <td>2.000000</td>\n",
       "      <td>NaN</td>\n",
       "      <td>9.990000</td>\n",
       "      <td>0.0</td>\n",
       "    </tr>\n",
       "    <tr>\n",
       "      <th>25%</th>\n",
       "      <td>2.000000</td>\n",
       "      <td>2.000000</td>\n",
       "      <td>7.000000</td>\n",
       "      <td>104.379997</td>\n",
       "      <td>0.000000</td>\n",
       "      <td>18.000000</td>\n",
       "      <td>3258.500000</td>\n",
       "      <td>725.000000</td>\n",
       "      <td>4.000000</td>\n",
       "      <td>18.265432</td>\n",
       "      <td>...</td>\n",
       "      <td>1.000000</td>\n",
       "      <td>119.980003</td>\n",
       "      <td>104.379997</td>\n",
       "      <td>7.000000</td>\n",
       "      <td>23464.000000</td>\n",
       "      <td>403.000000</td>\n",
       "      <td>18.000000</td>\n",
       "      <td>NaN</td>\n",
       "      <td>50.000000</td>\n",
       "      <td>0.0</td>\n",
       "    </tr>\n",
       "    <tr>\n",
       "      <th>50%</th>\n",
       "      <td>3.000000</td>\n",
       "      <td>4.000000</td>\n",
       "      <td>31.520000</td>\n",
       "      <td>163.990005</td>\n",
       "      <td>1.000000</td>\n",
       "      <td>29.000000</td>\n",
       "      <td>6457.000000</td>\n",
       "      <td>19380.000000</td>\n",
       "      <td>5.000000</td>\n",
       "      <td>33.144863</td>\n",
       "      <td>...</td>\n",
       "      <td>1.000000</td>\n",
       "      <td>199.919998</td>\n",
       "      <td>163.990005</td>\n",
       "      <td>31.520000</td>\n",
       "      <td>59405.000000</td>\n",
       "      <td>627.000000</td>\n",
       "      <td>29.000000</td>\n",
       "      <td>NaN</td>\n",
       "      <td>59.990002</td>\n",
       "      <td>0.0</td>\n",
       "    </tr>\n",
       "    <tr>\n",
       "      <th>75%</th>\n",
       "      <td>5.000000</td>\n",
       "      <td>4.000000</td>\n",
       "      <td>64.800003</td>\n",
       "      <td>247.399994</td>\n",
       "      <td>1.000000</td>\n",
       "      <td>45.000000</td>\n",
       "      <td>9779.000000</td>\n",
       "      <td>78207.000000</td>\n",
       "      <td>7.000000</td>\n",
       "      <td>39.279617</td>\n",
       "      <td>...</td>\n",
       "      <td>3.000000</td>\n",
       "      <td>299.950012</td>\n",
       "      <td>247.399994</td>\n",
       "      <td>64.800003</td>\n",
       "      <td>90008.000000</td>\n",
       "      <td>1004.000000</td>\n",
       "      <td>45.000000</td>\n",
       "      <td>NaN</td>\n",
       "      <td>199.990005</td>\n",
       "      <td>0.0</td>\n",
       "    </tr>\n",
       "    <tr>\n",
       "      <th>max</th>\n",
       "      <td>6.000000</td>\n",
       "      <td>4.000000</td>\n",
       "      <td>911.799988</td>\n",
       "      <td>1939.989990</td>\n",
       "      <td>1.000000</td>\n",
       "      <td>76.000000</td>\n",
       "      <td>20757.000000</td>\n",
       "      <td>99205.000000</td>\n",
       "      <td>12.000000</td>\n",
       "      <td>48.781933</td>\n",
       "      <td>...</td>\n",
       "      <td>5.000000</td>\n",
       "      <td>1999.989990</td>\n",
       "      <td>1939.989990</td>\n",
       "      <td>911.799988</td>\n",
       "      <td>99301.000000</td>\n",
       "      <td>1363.000000</td>\n",
       "      <td>76.000000</td>\n",
       "      <td>NaN</td>\n",
       "      <td>1999.989990</td>\n",
       "      <td>0.0</td>\n",
       "    </tr>\n",
       "  </tbody>\n",
       "</table>\n",
       "<p>8 rows × 29 columns</p>\n",
       "</div>"
      ],
      "text/plain": [
       "       Days for shipping (real)  Days for shipment (scheduled)  \\\n",
       "count             180519.000000                  180519.000000   \n",
       "mean                   3.497654                       2.931847   \n",
       "std                    1.623722                       1.374449   \n",
       "min                    0.000000                       0.000000   \n",
       "25%                    2.000000                       2.000000   \n",
       "50%                    3.000000                       4.000000   \n",
       "75%                    5.000000                       4.000000   \n",
       "max                    6.000000                       4.000000   \n",
       "\n",
       "       Benefit per order  Sales per customer  Late_delivery_risk  \\\n",
       "count      180519.000000       180519.000000       180519.000000   \n",
       "mean           21.974989          183.107609            0.548291   \n",
       "std           104.433526          120.043670            0.497664   \n",
       "min         -4274.979980            7.490000            0.000000   \n",
       "25%             7.000000          104.379997            0.000000   \n",
       "50%            31.520000          163.990005            1.000000   \n",
       "75%            64.800003          247.399994            1.000000   \n",
       "max           911.799988         1939.989990            1.000000   \n",
       "\n",
       "         Category Id    Customer Id  Customer Zipcode  Department Id  \\\n",
       "count  180519.000000  180519.000000     180516.000000  180519.000000   \n",
       "mean       31.851451    6691.379495      35921.126914       5.443460   \n",
       "std        15.640064    4162.918106      37542.461122       1.629246   \n",
       "min         2.000000       1.000000        603.000000       2.000000   \n",
       "25%        18.000000    3258.500000        725.000000       4.000000   \n",
       "50%        29.000000    6457.000000      19380.000000       5.000000   \n",
       "75%        45.000000    9779.000000      78207.000000       7.000000   \n",
       "max        76.000000   20757.000000      99205.000000      12.000000   \n",
       "\n",
       "            Latitude  ...  Order Item Quantity          Sales  \\\n",
       "count  180519.000000  ...        180519.000000  180519.000000   \n",
       "mean       29.719955  ...             2.127638     203.772096   \n",
       "std         9.813646  ...             1.453451     132.273077   \n",
       "min       -33.937553  ...             1.000000       9.990000   \n",
       "25%        18.265432  ...             1.000000     119.980003   \n",
       "50%        33.144863  ...             1.000000     199.919998   \n",
       "75%        39.279617  ...             3.000000     299.950012   \n",
       "max        48.781933  ...             5.000000    1999.989990   \n",
       "\n",
       "       Order Item Total  Order Profit Per Order  Order Zipcode  \\\n",
       "count     180519.000000           180519.000000   24840.000000   \n",
       "mean         183.107609               21.974989   55426.132327   \n",
       "std          120.043670              104.433526   31919.279101   \n",
       "min            7.490000            -4274.979980    1040.000000   \n",
       "25%          104.379997                7.000000   23464.000000   \n",
       "50%          163.990005               31.520000   59405.000000   \n",
       "75%          247.399994               64.800003   90008.000000   \n",
       "max         1939.989990              911.799988   99301.000000   \n",
       "\n",
       "       Product Card Id  Product Category Id  Product Description  \\\n",
       "count    180519.000000        180519.000000                  0.0   \n",
       "mean        692.509764            31.851451                  NaN   \n",
       "std         336.446807            15.640064                  NaN   \n",
       "min          19.000000             2.000000                  NaN   \n",
       "25%         403.000000            18.000000                  NaN   \n",
       "50%         627.000000            29.000000                  NaN   \n",
       "75%        1004.000000            45.000000                  NaN   \n",
       "max        1363.000000            76.000000                  NaN   \n",
       "\n",
       "       Product Price  Product Status  \n",
       "count  180519.000000        180519.0  \n",
       "mean      141.232550             0.0  \n",
       "std       139.732492             0.0  \n",
       "min         9.990000             0.0  \n",
       "25%        50.000000             0.0  \n",
       "50%        59.990002             0.0  \n",
       "75%       199.990005             0.0  \n",
       "max      1999.989990             0.0  \n",
       "\n",
       "[8 rows x 29 columns]"
      ]
     },
     "execution_count": 3,
     "metadata": {},
     "output_type": "execute_result"
    }
   ],
   "source": [
    "# retrieve the number of columns and rows\n",
    "df.describe()"
   ]
  },
  {
   "cell_type": "markdown",
   "metadata": {},
   "source": [
    "<details><summary>Click to see some Notable Observation of the Data</summary>\n",
    "<ol type=\"1\">\n",
    "<li><p>Aproximately <code>55%</code> of orders had late delivery risks.</p></li>\n",
    "<li><p>Aproximately <code>75%</code> of products cost <code>$199.99</code></p></li>\n",
    "<li><p>All the products are available.</p></li>\n",
    "<li><p>75% of customers bought goods worth at least <code>$247.40</code></p></li>\n",
    "</ol>\n",
    "<p>\n",
    "Further inspection of the data will help us understand the data better.\n",
    "</p>\n",
    "</details>"
   ]
  },
  {
   "cell_type": "markdown",
   "metadata": {},
   "source": [
    "\n",
    "## Data Preprocessing\n",
    "\n",
    "<p>\n",
    "we will focus on historical sales data, and product attributes like; stock level, and product category, we will also analyze the impact of other variables that contribute to demand patterns including geographic factors, customer segments and lead time.\n",
    "</p>\n",
    "\n",
    "### Preprocessing Tasks\n",
    "\n",
    "- [x] Drop irrelevant columns\n",
    "- [x] Drop rows with missing values\n",
    "- [x] Create new features\n",
    "- [x] Convert categorical features to numerical features\n",
    "\n",
    "<p>Based on the above, we will drop the majority of the columns that are not relevant for forecasting the demand and extract new features from the existing columns\n",
    "</p>\n"
   ]
  },
  {
   "cell_type": "markdown",
   "metadata": {},
   "source": [
    "\n",
    "#### Drop Irrelevant Columns\n"
   ]
  },
  {
   "cell_type": "code",
   "execution_count": 4,
   "metadata": {},
   "outputs": [
    {
     "name": "stdout",
     "output_type": "stream",
     "text": [
      "34 columns dropped successfully. Number of columns remaining: 19\n"
     ]
    }
   ],
   "source": [
    "#| code-fold: true\n",
    "#| code-summary: \"Show the code\"\n",
    "\n",
    "# drop irrelevant columns\n",
    "def drop_columns(df, columns_to_drop):\n",
    "    try:\n",
    "        df = df.drop(columns=columns_to_drop)\n",
    "        print(f\"{len(columns_to_drop)} columns dropped successfully. Number of columns remaining: {len(df.columns)}\")\n",
    "        return df\n",
    "    except KeyError as e:\n",
    "        print(f\"\"\"Column(s): {e} not found in dataframe.\n",
    "              \n",
    "            No columns dropped.\n",
    "            Please Check that the column names are correct.\"\"\")\n",
    "        return df\n",
    "\n",
    "# Specify the columns to keep\n",
    "colums_to_keep = ['Days for shipping (real)', \n",
    "                  'Days for shipment (scheduled)',\n",
    "                  'Customer Country',\n",
    "                  'Sales per customer',\n",
    "                  'Delivery Status', \n",
    "                  'Late_delivery_risk', \n",
    "                  'Customer City',\n",
    "                  'Customer Segment',\n",
    "                  'Sales','Shipping Mode',\n",
    "                  'Type', 'Product Card Id',\n",
    "                  'Customer Zipcode', \n",
    "                  'Product Category Id', \n",
    "                  'Product Name',                    \n",
    "                  'Product Price',\n",
    "                  'Market', \n",
    "                  'Product Status',\n",
    "                  'shipping date (DateOrders)',]\n",
    "\n",
    "# Specify the columns to drop\n",
    "columns_to_drop = [col for col in df.columns if col not in colums_to_keep ]\n",
    "\n",
    "df = drop_columns(df, columns_to_drop)"
   ]
  },
  {
   "cell_type": "code",
   "execution_count": 5,
   "metadata": {},
   "outputs": [
    {
     "data": {
      "text/html": [
       "<div>\n",
       "<style scoped>\n",
       "    .dataframe tbody tr th:only-of-type {\n",
       "        vertical-align: middle;\n",
       "    }\n",
       "\n",
       "    .dataframe tbody tr th {\n",
       "        vertical-align: top;\n",
       "    }\n",
       "\n",
       "    .dataframe thead th {\n",
       "        text-align: right;\n",
       "    }\n",
       "</style>\n",
       "<table border=\"1\" class=\"dataframe\">\n",
       "  <thead>\n",
       "    <tr style=\"text-align: right;\">\n",
       "      <th></th>\n",
       "      <th>Type</th>\n",
       "      <th>Days for shipping (real)</th>\n",
       "      <th>Days for shipment (scheduled)</th>\n",
       "      <th>Sales per customer</th>\n",
       "      <th>Delivery Status</th>\n",
       "      <th>Late_delivery_risk</th>\n",
       "      <th>Customer City</th>\n",
       "      <th>Customer Country</th>\n",
       "      <th>Customer Segment</th>\n",
       "      <th>Customer Zipcode</th>\n",
       "      <th>Market</th>\n",
       "      <th>Sales</th>\n",
       "      <th>Product Card Id</th>\n",
       "      <th>Product Category Id</th>\n",
       "      <th>Product Name</th>\n",
       "      <th>Product Price</th>\n",
       "      <th>Product Status</th>\n",
       "      <th>shipping date (DateOrders)</th>\n",
       "      <th>Shipping Mode</th>\n",
       "    </tr>\n",
       "  </thead>\n",
       "  <tbody>\n",
       "    <tr>\n",
       "      <th>0</th>\n",
       "      <td>DEBIT</td>\n",
       "      <td>3</td>\n",
       "      <td>4</td>\n",
       "      <td>314.640015</td>\n",
       "      <td>Advance shipping</td>\n",
       "      <td>0</td>\n",
       "      <td>Caguas</td>\n",
       "      <td>Puerto Rico</td>\n",
       "      <td>Consumer</td>\n",
       "      <td>725.0</td>\n",
       "      <td>Pacific Asia</td>\n",
       "      <td>327.750000</td>\n",
       "      <td>1360</td>\n",
       "      <td>73</td>\n",
       "      <td>Smart watch</td>\n",
       "      <td>327.750000</td>\n",
       "      <td>0</td>\n",
       "      <td>2/3/2018 22:56</td>\n",
       "      <td>Standard Class</td>\n",
       "    </tr>\n",
       "    <tr>\n",
       "      <th>1</th>\n",
       "      <td>TRANSFER</td>\n",
       "      <td>5</td>\n",
       "      <td>4</td>\n",
       "      <td>311.359985</td>\n",
       "      <td>Late delivery</td>\n",
       "      <td>1</td>\n",
       "      <td>Caguas</td>\n",
       "      <td>Puerto Rico</td>\n",
       "      <td>Consumer</td>\n",
       "      <td>725.0</td>\n",
       "      <td>Pacific Asia</td>\n",
       "      <td>327.750000</td>\n",
       "      <td>1360</td>\n",
       "      <td>73</td>\n",
       "      <td>Smart watch</td>\n",
       "      <td>327.750000</td>\n",
       "      <td>0</td>\n",
       "      <td>1/18/2018 12:27</td>\n",
       "      <td>Standard Class</td>\n",
       "    </tr>\n",
       "    <tr>\n",
       "      <th>2</th>\n",
       "      <td>CASH</td>\n",
       "      <td>4</td>\n",
       "      <td>4</td>\n",
       "      <td>309.720001</td>\n",
       "      <td>Shipping on time</td>\n",
       "      <td>0</td>\n",
       "      <td>San Jose</td>\n",
       "      <td>EE. UU.</td>\n",
       "      <td>Consumer</td>\n",
       "      <td>95125.0</td>\n",
       "      <td>Pacific Asia</td>\n",
       "      <td>327.750000</td>\n",
       "      <td>1360</td>\n",
       "      <td>73</td>\n",
       "      <td>Smart watch</td>\n",
       "      <td>327.750000</td>\n",
       "      <td>0</td>\n",
       "      <td>1/17/2018 12:06</td>\n",
       "      <td>Standard Class</td>\n",
       "    </tr>\n",
       "    <tr>\n",
       "      <th>3</th>\n",
       "      <td>DEBIT</td>\n",
       "      <td>3</td>\n",
       "      <td>4</td>\n",
       "      <td>304.809998</td>\n",
       "      <td>Advance shipping</td>\n",
       "      <td>0</td>\n",
       "      <td>Los Angeles</td>\n",
       "      <td>EE. UU.</td>\n",
       "      <td>Home Office</td>\n",
       "      <td>90027.0</td>\n",
       "      <td>Pacific Asia</td>\n",
       "      <td>327.750000</td>\n",
       "      <td>1360</td>\n",
       "      <td>73</td>\n",
       "      <td>Smart watch</td>\n",
       "      <td>327.750000</td>\n",
       "      <td>0</td>\n",
       "      <td>1/16/2018 11:45</td>\n",
       "      <td>Standard Class</td>\n",
       "    </tr>\n",
       "    <tr>\n",
       "      <th>4</th>\n",
       "      <td>PAYMENT</td>\n",
       "      <td>2</td>\n",
       "      <td>4</td>\n",
       "      <td>298.250000</td>\n",
       "      <td>Advance shipping</td>\n",
       "      <td>0</td>\n",
       "      <td>Caguas</td>\n",
       "      <td>Puerto Rico</td>\n",
       "      <td>Corporate</td>\n",
       "      <td>725.0</td>\n",
       "      <td>Pacific Asia</td>\n",
       "      <td>327.750000</td>\n",
       "      <td>1360</td>\n",
       "      <td>73</td>\n",
       "      <td>Smart watch</td>\n",
       "      <td>327.750000</td>\n",
       "      <td>0</td>\n",
       "      <td>1/15/2018 11:24</td>\n",
       "      <td>Standard Class</td>\n",
       "    </tr>\n",
       "    <tr>\n",
       "      <th>...</th>\n",
       "      <td>...</td>\n",
       "      <td>...</td>\n",
       "      <td>...</td>\n",
       "      <td>...</td>\n",
       "      <td>...</td>\n",
       "      <td>...</td>\n",
       "      <td>...</td>\n",
       "      <td>...</td>\n",
       "      <td>...</td>\n",
       "      <td>...</td>\n",
       "      <td>...</td>\n",
       "      <td>...</td>\n",
       "      <td>...</td>\n",
       "      <td>...</td>\n",
       "      <td>...</td>\n",
       "      <td>...</td>\n",
       "      <td>...</td>\n",
       "      <td>...</td>\n",
       "      <td>...</td>\n",
       "    </tr>\n",
       "    <tr>\n",
       "      <th>180514</th>\n",
       "      <td>CASH</td>\n",
       "      <td>4</td>\n",
       "      <td>4</td>\n",
       "      <td>399.980011</td>\n",
       "      <td>Shipping on time</td>\n",
       "      <td>0</td>\n",
       "      <td>Brooklyn</td>\n",
       "      <td>EE. UU.</td>\n",
       "      <td>Home Office</td>\n",
       "      <td>11207.0</td>\n",
       "      <td>Pacific Asia</td>\n",
       "      <td>399.980011</td>\n",
       "      <td>1004</td>\n",
       "      <td>45</td>\n",
       "      <td>Field &amp; Stream Sportsman 16 Gun Fire Safe</td>\n",
       "      <td>399.980011</td>\n",
       "      <td>0</td>\n",
       "      <td>1/20/2016 3:40</td>\n",
       "      <td>Standard Class</td>\n",
       "    </tr>\n",
       "    <tr>\n",
       "      <th>180515</th>\n",
       "      <td>DEBIT</td>\n",
       "      <td>3</td>\n",
       "      <td>2</td>\n",
       "      <td>395.980011</td>\n",
       "      <td>Late delivery</td>\n",
       "      <td>1</td>\n",
       "      <td>Bakersfield</td>\n",
       "      <td>EE. UU.</td>\n",
       "      <td>Corporate</td>\n",
       "      <td>93304.0</td>\n",
       "      <td>Pacific Asia</td>\n",
       "      <td>399.980011</td>\n",
       "      <td>1004</td>\n",
       "      <td>45</td>\n",
       "      <td>Field &amp; Stream Sportsman 16 Gun Fire Safe</td>\n",
       "      <td>399.980011</td>\n",
       "      <td>0</td>\n",
       "      <td>1/19/2016 1:34</td>\n",
       "      <td>Second Class</td>\n",
       "    </tr>\n",
       "    <tr>\n",
       "      <th>180516</th>\n",
       "      <td>TRANSFER</td>\n",
       "      <td>5</td>\n",
       "      <td>4</td>\n",
       "      <td>391.980011</td>\n",
       "      <td>Late delivery</td>\n",
       "      <td>1</td>\n",
       "      <td>Bristol</td>\n",
       "      <td>EE. UU.</td>\n",
       "      <td>Corporate</td>\n",
       "      <td>6010.0</td>\n",
       "      <td>Pacific Asia</td>\n",
       "      <td>399.980011</td>\n",
       "      <td>1004</td>\n",
       "      <td>45</td>\n",
       "      <td>Field &amp; Stream Sportsman 16 Gun Fire Safe</td>\n",
       "      <td>399.980011</td>\n",
       "      <td>0</td>\n",
       "      <td>1/20/2016 21:00</td>\n",
       "      <td>Standard Class</td>\n",
       "    </tr>\n",
       "    <tr>\n",
       "      <th>180517</th>\n",
       "      <td>PAYMENT</td>\n",
       "      <td>3</td>\n",
       "      <td>4</td>\n",
       "      <td>387.980011</td>\n",
       "      <td>Advance shipping</td>\n",
       "      <td>0</td>\n",
       "      <td>Caguas</td>\n",
       "      <td>Puerto Rico</td>\n",
       "      <td>Consumer</td>\n",
       "      <td>725.0</td>\n",
       "      <td>Pacific Asia</td>\n",
       "      <td>399.980011</td>\n",
       "      <td>1004</td>\n",
       "      <td>45</td>\n",
       "      <td>Field &amp; Stream Sportsman 16 Gun Fire Safe</td>\n",
       "      <td>399.980011</td>\n",
       "      <td>0</td>\n",
       "      <td>1/18/2016 20:18</td>\n",
       "      <td>Standard Class</td>\n",
       "    </tr>\n",
       "    <tr>\n",
       "      <th>180518</th>\n",
       "      <td>PAYMENT</td>\n",
       "      <td>4</td>\n",
       "      <td>4</td>\n",
       "      <td>383.980011</td>\n",
       "      <td>Shipping on time</td>\n",
       "      <td>0</td>\n",
       "      <td>Caguas</td>\n",
       "      <td>Puerto Rico</td>\n",
       "      <td>Consumer</td>\n",
       "      <td>725.0</td>\n",
       "      <td>Pacific Asia</td>\n",
       "      <td>399.980011</td>\n",
       "      <td>1004</td>\n",
       "      <td>45</td>\n",
       "      <td>Field &amp; Stream Sportsman 16 Gun Fire Safe</td>\n",
       "      <td>399.980011</td>\n",
       "      <td>0</td>\n",
       "      <td>1/19/2016 18:54</td>\n",
       "      <td>Standard Class</td>\n",
       "    </tr>\n",
       "  </tbody>\n",
       "</table>\n",
       "<p>180519 rows × 19 columns</p>\n",
       "</div>"
      ],
      "text/plain": [
       "            Type  Days for shipping (real)  Days for shipment (scheduled)  \\\n",
       "0          DEBIT                         3                              4   \n",
       "1       TRANSFER                         5                              4   \n",
       "2           CASH                         4                              4   \n",
       "3          DEBIT                         3                              4   \n",
       "4        PAYMENT                         2                              4   \n",
       "...          ...                       ...                            ...   \n",
       "180514      CASH                         4                              4   \n",
       "180515     DEBIT                         3                              2   \n",
       "180516  TRANSFER                         5                              4   \n",
       "180517   PAYMENT                         3                              4   \n",
       "180518   PAYMENT                         4                              4   \n",
       "\n",
       "        Sales per customer   Delivery Status  Late_delivery_risk  \\\n",
       "0               314.640015  Advance shipping                   0   \n",
       "1               311.359985     Late delivery                   1   \n",
       "2               309.720001  Shipping on time                   0   \n",
       "3               304.809998  Advance shipping                   0   \n",
       "4               298.250000  Advance shipping                   0   \n",
       "...                    ...               ...                 ...   \n",
       "180514          399.980011  Shipping on time                   0   \n",
       "180515          395.980011     Late delivery                   1   \n",
       "180516          391.980011     Late delivery                   1   \n",
       "180517          387.980011  Advance shipping                   0   \n",
       "180518          383.980011  Shipping on time                   0   \n",
       "\n",
       "       Customer City Customer Country Customer Segment  Customer Zipcode  \\\n",
       "0             Caguas      Puerto Rico         Consumer             725.0   \n",
       "1             Caguas      Puerto Rico         Consumer             725.0   \n",
       "2           San Jose          EE. UU.         Consumer           95125.0   \n",
       "3        Los Angeles          EE. UU.      Home Office           90027.0   \n",
       "4             Caguas      Puerto Rico        Corporate             725.0   \n",
       "...              ...              ...              ...               ...   \n",
       "180514      Brooklyn          EE. UU.      Home Office           11207.0   \n",
       "180515   Bakersfield          EE. UU.        Corporate           93304.0   \n",
       "180516       Bristol          EE. UU.        Corporate            6010.0   \n",
       "180517        Caguas      Puerto Rico         Consumer             725.0   \n",
       "180518        Caguas      Puerto Rico         Consumer             725.0   \n",
       "\n",
       "              Market       Sales  Product Card Id  Product Category Id  \\\n",
       "0       Pacific Asia  327.750000             1360                   73   \n",
       "1       Pacific Asia  327.750000             1360                   73   \n",
       "2       Pacific Asia  327.750000             1360                   73   \n",
       "3       Pacific Asia  327.750000             1360                   73   \n",
       "4       Pacific Asia  327.750000             1360                   73   \n",
       "...              ...         ...              ...                  ...   \n",
       "180514  Pacific Asia  399.980011             1004                   45   \n",
       "180515  Pacific Asia  399.980011             1004                   45   \n",
       "180516  Pacific Asia  399.980011             1004                   45   \n",
       "180517  Pacific Asia  399.980011             1004                   45   \n",
       "180518  Pacific Asia  399.980011             1004                   45   \n",
       "\n",
       "                                     Product Name  Product Price  \\\n",
       "0                                    Smart watch      327.750000   \n",
       "1                                    Smart watch      327.750000   \n",
       "2                                    Smart watch      327.750000   \n",
       "3                                    Smart watch      327.750000   \n",
       "4                                    Smart watch      327.750000   \n",
       "...                                           ...            ...   \n",
       "180514  Field & Stream Sportsman 16 Gun Fire Safe     399.980011   \n",
       "180515  Field & Stream Sportsman 16 Gun Fire Safe     399.980011   \n",
       "180516  Field & Stream Sportsman 16 Gun Fire Safe     399.980011   \n",
       "180517  Field & Stream Sportsman 16 Gun Fire Safe     399.980011   \n",
       "180518  Field & Stream Sportsman 16 Gun Fire Safe     399.980011   \n",
       "\n",
       "        Product Status shipping date (DateOrders)   Shipping Mode  \n",
       "0                    0             2/3/2018 22:56  Standard Class  \n",
       "1                    0            1/18/2018 12:27  Standard Class  \n",
       "2                    0            1/17/2018 12:06  Standard Class  \n",
       "3                    0            1/16/2018 11:45  Standard Class  \n",
       "4                    0            1/15/2018 11:24  Standard Class  \n",
       "...                ...                        ...             ...  \n",
       "180514               0             1/20/2016 3:40  Standard Class  \n",
       "180515               0             1/19/2016 1:34    Second Class  \n",
       "180516               0            1/20/2016 21:00  Standard Class  \n",
       "180517               0            1/18/2016 20:18  Standard Class  \n",
       "180518               0            1/19/2016 18:54  Standard Class  \n",
       "\n",
       "[180519 rows x 19 columns]"
      ]
     },
     "execution_count": 5,
     "metadata": {},
     "output_type": "execute_result"
    }
   ],
   "source": [
    "df"
   ]
  },
  {
   "cell_type": "markdown",
   "metadata": {},
   "source": [
    "#### Drop Rows with Missing Values"
   ]
  },
  {
   "cell_type": "code",
   "execution_count": 6,
   "metadata": {},
   "outputs": [],
   "source": [
    "# drop customer Zip code.\n",
    "df = df.drop(columns=['Customer Zipcode'])"
   ]
  },
  {
   "cell_type": "markdown",
   "metadata": {},
   "source": [
    "##### A Quick Spot Check for Missing Values"
   ]
  },
  {
   "cell_type": "code",
   "execution_count": 7,
   "metadata": {},
   "outputs": [
    {
     "name": "stdout",
     "output_type": "stream",
     "text": [
      "No null values found ✅\n"
     ]
    }
   ],
   "source": [
    "### Check for Missing values\n",
    "def check_null_values(df):\n",
    "    null_values = df.isnull().sum()\n",
    "    if null_values.sum() == 0:\n",
    "        print(\"No null values found ✅\")\n",
    "    else:\n",
    "        print(\"⚠️ Null values found in the following columns:\")\n",
    "        for column, null_count in null_values.iteritems():\n",
    "            if null_count > 0:\n",
    "                print(f\"{column}: {null_count}\")\n",
    "\n",
    "# Use the function\n",
    "check_null_values(df)"
   ]
  },
  {
   "cell_type": "markdown",
   "metadata": {},
   "source": [
    "<p>In the code above, `df.isnull().sum()` returns a Series where the index is the column names and the values are the count of null values in each column. If the sum of these counts is 0, it means there are no null values in the DataFrame, so it prints \"No null values found\". Otherwise, it iterates over the Series and prints the column names and counts of null values.</p>"
   ]
  },
  {
   "cell_type": "markdown",
   "metadata": {},
   "source": [
    "#### Create New Features\n",
    "<p>The dataset contains a `shipping date` column which is a `DateTime` object from which we can extract `Month`, `Year`, `Day` and `Day of Week` that can be useful in our analysis.</p>\n",
    "\n",
    "- [x] `Month` - to capture the months per sale.\n",
    "- [x] `Year` - to capture the year per sales.\n",
    "- [x] `Day` - to capture the day per sales.\n",
    "- [x] `Day of Week` - to capture the day of the week per sales.\n",
    "\n",
    "<p>\n",
    "we need to also create a new  `Lead Time` column which is the difference between the `Days for shipment (scheduled)` and the `Days for shipping (real)`. This will help us understand the impact of lead time on demand.\n",
    "</p>"
   ]
  },
  {
   "cell_type": "code",
   "execution_count": 8,
   "metadata": {},
   "outputs": [
    {
     "name": "stdout",
     "output_type": "stream",
     "text": [
      "✅ Success! Columns Created: Shipping Year, Shipping Month, Shipping Day, and Shipping Weekday\n"
     ]
    }
   ],
   "source": [
    "#| code-fold: true\n",
    "#| code-summary: \"Show the code\"\n",
    "\n",
    "# Create month, Year, Day, and Weekday columns from Shipping Date\n",
    "def extract_date_parts(df, date_column, prefix):\n",
    "    try:\n",
    "        df[date_column] = pd.to_datetime(df[date_column])\n",
    "        df[f'{prefix} Year'] = df[date_column].dt.year\n",
    "        df[f'{prefix} Month'] = df[date_column].dt.month\n",
    "        df[f'{prefix} Day'] = df[date_column].dt.day\n",
    "        df[f'{prefix} Weekday'] = df[date_column].dt.weekday\n",
    "        # verify and notify that the columns have been created\n",
    "        if f'{prefix} Year' in df.columns and f'{prefix} Month' in df.columns and f'{prefix} Day' in df.columns and f'{prefix} Weekday' in df.columns:\n",
    "            print(f\"✅ Success! Columns Created: {prefix} Year, {prefix} Month, {prefix} Day, and {prefix} Weekday\")\n",
    "            return df\n",
    "        else:\n",
    "            print(\"Error creating columns. Please check that the date column name is correct.\")\n",
    "    except Exception as e:\n",
    "        print(f\"Error creating columns: {e}\")\n",
    "        return df\n",
    "# Add Lead Time Feature from Days for shipping (real) and Days for shipment (scheduled)\n",
    "df['Lead Time'] = df['Days for shipping (real)'] - df['Days for shipment (scheduled)']\n",
    "\n",
    "# Use the function to extract date parts\n",
    "df = extract_date_parts(df, 'shipping date (DateOrders)', 'Shipping')\n"
   ]
  },
  {
   "cell_type": "code",
   "execution_count": 9,
   "metadata": {},
   "outputs": [
    {
     "data": {
      "text/plain": [
       "(180519, 23)"
      ]
     },
     "execution_count": 9,
     "metadata": {},
     "output_type": "execute_result"
    }
   ],
   "source": [
    "# display the shape of the data frame\n",
    "df.shape"
   ]
  },
  {
   "cell_type": "code",
   "execution_count": 10,
   "metadata": {},
   "outputs": [],
   "source": [
    "df.to_csv(\"/Users/vasupatel/Documents/Winter Quarter/Gen AI/archive/df.csv\", index=False)"
   ]
  },
  {
   "cell_type": "markdown",
   "metadata": {},
   "source": [
    "<p>Now we have 23 columns and 180519 entries (rows) in the dataset.</p>"
   ]
  },
  {
   "cell_type": "markdown",
   "metadata": {},
   "source": [
    "### Data Encoding\n",
    "<p>The nature of categorical data makes it unsuitable for future analysis. For instance, machine learning models can't work with categorical values for customer origins like `UK`, `USA`, `France`, etc. We will convert these categorical values to numerical values using the `LabelEncoder` from the `sklearn` library.</p>\n",
    "\n",
    "<p>I will also perform a <a href=\"https://www.geeksforgeeks.org/ml-one-hot-encoding-of-datasets-in-python/\"> one-hot encoding</a> technique on categorical features for future machine learning modeling tasks.</p>\n",
    "\n",
    "<p> I wrote a `prepare_data()` function that returns two preprocessed dataframes: one that is encoded using a label encoder function and the other encoded using one hot encoding technique.</p>\n",
    "\n",
    "<p>You can learn about encoding techniques for categorical variables <a href=\"https://www.analyticsvidhya.com/blog/2020/08/types-of-categorical-data-encoding/\">here</a></p>\n"
   ]
  },
  {
   "cell_type": "code",
   "execution_count": 11,
   "metadata": {},
   "outputs": [
    {
     "name": "stdout",
     "output_type": "stream",
     "text": [
      "Filtering and Encoding Dataset for Top Product ID: 365\n",
      "Data Encoding successful. ✅\n"
     ]
    }
   ],
   "source": [
    "#| code-fold: true\n",
    "#| code-summary: \"Show the code\"\n",
    "# Select top selling product\n",
    "top_product = df['Product Card Id'].value_counts().index[0]\n",
    "# get top product ID\n",
    "print(f\"Filtering and Encoding Dataset for Top Product ID: {top_product}\")\n",
    "\n",
    "from sklearn.preprocessing import LabelEncoder\n",
    "\n",
    "def prepare_data(df, product_card_id, categorical_cols, columns_to_drop):\n",
    "    \"\"\"\n",
    "    Prepare a DataFrame for bivariate analysis and machine learnin\n",
    "    g by applying label encoding and one-hot encoding to categorical \n",
    "    columns and dropping specified columns.\n",
    "\n",
    "    Parameters:\n",
    "    df (pandas.DataFrame): The original DataFrame.\n",
    "    product_card_id (int): The product card ID to filter the DataFrame on.\n",
    "    categorical_cols (list of str): The names of the categorical columns to apply encoding to.\n",
    "    columns_to_drop (list of str): The names of the columns to drop from the DataFrame.\n",
    "\n",
    "    Returns:\n",
    "    pandas.DataFrame: The label encoded DataFrame for bivariate analysis.\n",
    "    pandas.DataFrame: The one-hot encoded DataFrame for machine learning.\n",
    "    \"\"\"\n",
    "    try:\n",
    "        df_copy = df[df['Product Card Id'] == product_card_id].copy()  # create a copy\n",
    "\n",
    "        # label encoding\n",
    "        label_encoder = LabelEncoder()\n",
    "        df_label_encoded = df_copy.copy()\n",
    "\n",
    "        # Apply label encoding to categorical variables in place\n",
    "        for col in categorical_cols:\n",
    "            df_label_encoded[col] = label_encoder.fit_transform(df_label_encoded[col])\n",
    "\n",
    "        # Drop specified columns\n",
    "        df_label_encoded = df_label_encoded.drop(columns=columns_to_drop)\n",
    "\n",
    "        # one-hot encoding\n",
    "        df_one_hot_encoded = pd.get_dummies(df_copy, columns=categorical_cols)\n",
    "\n",
    "        # Drop specified columns\n",
    "        df_one_hot_encoded = df_one_hot_encoded.drop(columns=columns_to_drop)\n",
    "        print(\"Data Encoding successful. ✅\")\n",
    "        return  df_one_hot_encoded, df_label_encoded\n",
    "    except Exception as e:\n",
    "        print(f\"Error preparing data: {e}\")\n",
    "        return None, None\n",
    "\n",
    "# Use the function to prepare the data for bivariate analysis\n",
    "categorical_cols = ['Type', 'Customer Segment', \n",
    "                    'Delivery Status', \n",
    "                    'Customer City', \n",
    "                    'Market',\n",
    "                    'Shipping Mode']\n",
    "\n",
    "columns_to_drop = ['Product Name',\n",
    "                   'Days for shipment (scheduled)', \n",
    "                   'Sales per customer', \n",
    "                   'Days for shipping (real)',\n",
    "                   'Customer Country', \n",
    "                   'shipping date (DateOrders)', \n",
    "                   'Product Card Id', \n",
    "                   'Product Category Id', \n",
    "                   'Product Status', \n",
    "                   'Product Price']\n",
    "\n",
    "# drop columns and encode data for correlation martrix and Machine learning\n",
    "onehot_encode_df, label_encode_df = prepare_data(df, top_product, categorical_cols, columns_to_drop)\n",
    "\n",
    "# rename Type column to Payment Type\n",
    "label_encode_df = label_encode_df.rename(columns={'Type': 'Payment Type'})\n",
    "onehot_encode_df = onehot_encode_df.rename(columns={'Type': 'Payment Type'})"
   ]
  },
  {
   "cell_type": "markdown",
   "metadata": {},
   "source": [
    "#### Confirm Encoding of Dataset "
   ]
  },
  {
   "cell_type": "code",
   "execution_count": 12,
   "metadata": {},
   "outputs": [
    {
     "data": {
      "text/plain": [
       "Payment Type            int64\n",
       "Delivery Status         int64\n",
       "Late_delivery_risk      int64\n",
       "Customer City           int64\n",
       "Customer Segment        int64\n",
       "Market                  int64\n",
       "Sales                 float64\n",
       "Shipping Mode           int64\n",
       "Lead Time               int64\n",
       "Shipping Year           int32\n",
       "Shipping Month          int32\n",
       "Shipping Day            int32\n",
       "Shipping Weekday        int32\n",
       "dtype: object"
      ]
     },
     "execution_count": 12,
     "metadata": {},
     "output_type": "execute_result"
    }
   ],
   "source": [
    "label_encode_df.dtypes"
   ]
  },
  {
   "cell_type": "code",
   "execution_count": 13,
   "metadata": {},
   "outputs": [
    {
     "data": {
      "text/plain": [
       "Late_delivery_risk                int64\n",
       "Sales                           float64\n",
       "Lead Time                         int64\n",
       "Shipping Year                     int32\n",
       "Shipping Month                    int32\n",
       "                                 ...   \n",
       "Market_USCA                        bool\n",
       "Shipping Mode_First Class          bool\n",
       "Shipping Mode_Same Day             bool\n",
       "Shipping Mode_Second Class         bool\n",
       "Shipping Mode_Standard Class       bool\n",
       "Length: 589, dtype: object"
      ]
     },
     "execution_count": 13,
     "metadata": {},
     "output_type": "execute_result"
    }
   ],
   "source": [
    "# validate the one-hot encoding\n",
    "onehot_encode_df.dtypes"
   ]
  },
  {
   "cell_type": "markdown",
   "metadata": {},
   "source": [
    "<p> The dataset is now ready for further analysis and modeling. we can now proceed to conduct exploratory data visualizations to understand the distribution of the data better.</p>"
   ]
  },
  {
   "cell_type": "markdown",
   "metadata": {},
   "source": [
    "## Exploratory Data Visualizations\n",
    "<p>To highlight the distributions of the individual variables as well as the relationship between the variables and the target variables, I used the following techniques:</p>\n",
    "\n",
    "- [x] Univariate Analysis\n",
    "- [x] Exploratory Time Series Analysis"
   ]
  },
  {
   "cell_type": "markdown",
   "metadata": {},
   "source": [
    "### Univariate Analysis\n",
    "<p>Univariate analysis is the simplest form of data analysis where the data being analyzed contains only one variable. Since it's a single variable, it doesn't deal with causes or relationships. The main purpose of univariate analysis is to describe the data and find patterns that exist within it.</p>\n",
    "\n",
    "#### Visualizing the Distribution of the Dataset"
   ]
  },
  {
   "cell_type": "code",
   "execution_count": 14,
   "metadata": {},
   "outputs": [
    {
     "data": {
      "image/png": "[encoded data removed]",
      "text/plain": [
       "<Figure size 1500x1500 with 9 Axes>"
      ]
     },
     "metadata": {},
     "output_type": "display_data"
    }
   ],
   "source": [
    "fig, axes = plt.subplots(nrows=3, ncols=3, figsize=(15, 15))\n",
    "fig.suptitle('Distribution Plots for Selected Variables', \n",
    "             fontsize=16)\n",
    "# Create a copy of the DataFrame\n",
    "df_copy = df.copy()\n",
    "\n",
    "\n",
    "# Plotting  the top ten products per Product Card Id\n",
    "sns.countplot(data=df_copy, x='Product Card Id',\n",
    "                color='blue', ax=axes[0, 0], \n",
    "                order=df_copy['Product Card Id'].value_counts().iloc[:10].index)\n",
    "axes[0, 0].set_title('Distribution of Top Ten Product Id')\n",
    "axes[0, 0].set_xlabel('Product Card Id')\n",
    "axes[0, 0].set_ylabel('Count')\n",
    "\n",
    "\n",
    "# Plotting Value of sales in  dollars\n",
    "sns.histplot(data=df_copy, x='Sales', \n",
    "             kde=True, color='salmon', \n",
    "             bins=30, linewidth=2,\n",
    "             ax=axes[0, 1])\n",
    "axes[0, 1].set_title('Distribution of Sales')\n",
    "axes[0, 1].set_xlabel('Sales value in Dollars')\n",
    "axes[0, 1].set_ylabel('Frequency')\n",
    "\n",
    "\n",
    "# Plotting Sales Value per customer\n",
    "sns.histplot(data=df_copy, x='Sales per customer',\n",
    "             bins=30, kde=True, linewidth=2,\n",
    "             color='lightblue', ax=axes[0, 2])\n",
    "axes[0, 2].set_title('Distribution of Sales per Customer')\n",
    "axes[0, 2].set_xlabel('Sales per Customer')\n",
    "axes[0, 2].set_ylabel('Frequency')\n",
    "\n",
    "# Ploting the distribution of Product Price\n",
    "sns.histplot(data=df_copy, x='Product Price', bins=30, kde=True, \n",
    "             color='lightgreen', linewidth=2, ax=axes[1, 0])\n",
    "\n",
    "axes[1, 0].set_title('Distribution of Product Price')\n",
    "axes[1, 0].set_xlabel('Product Price')\n",
    "\n",
    "# ploting a tree map for Customer Segment\n",
    "squarify.plot(sizes=df_copy['Customer Segment'].value_counts(), \n",
    "              label=df_copy['Customer Segment'].value_counts().index, \n",
    "              color=sns.color_palette(\"Set3\"), ax=axes[1, 1])\n",
    "axes[1, 1].set_title('Distribution of Customer Segment - Treemap')\n",
    "\n",
    "# ploting a tree map for Top Ten Product Category Id\n",
    "squarify.plot(sizes=df_copy['Product Category Id'].value_counts().iloc[:10],\n",
    "                label=df_copy['Product Category Id'].value_counts().iloc[:10].index,\n",
    "                color=sns.color_palette(\"Set2\"), ax=axes[1, 2])\n",
    "axes[1, 2].set_title('Distribution of Top Ten Product Category Id - Treemap')\n",
    "\n",
    "# Plotting the distribution of Delivery Status\n",
    "sns.countplot(data=df_copy, x='Delivery Status',\n",
    "                color='pink', ax=axes[2, 0])\n",
    "axes[2, 0].set_title('Distribution of Delivery Status')\n",
    "axes[2, 0].set_xlabel('Delivery Status')\n",
    "axes[2, 0].set_ylabel('Count')\n",
    "\n",
    "\n",
    "# Plotting the distribution Payment Type with stacked bar chart\n",
    "df_copy.groupby(['Type'])['Type'].count().plot(kind='bar', \n",
    "                                               stacked=True,\n",
    "                                               ax=axes[2, 1])\n",
    "\n",
    "axes[2, 1].set_title('Distribution of Payment Type')\n",
    "axes[2, 1].set_xlabel('Payment Type')\n",
    "axes[2, 1].set_ylabel('Count')\n",
    "\n",
    "# Plotting the Distribution of top ten Customer Country\n",
    "sns.countplot(data=df_copy, x='Customer Country',\n",
    "                color='orange', ax=axes[2, 2], \n",
    "                order=df_copy['Customer Country'].value_counts().iloc[:10].index)\n",
    "axes[2, 2].set_title('Distribution of Customer Country')\n",
    "axes[2, 2].set_xlabel('Customer Country')\n",
    "axes[2, 2].set_ylabel('Count')\n",
    "\n",
    "\n",
    "\n",
    "# Adjust layout\n",
    "plt.tight_layout(rect=[0, 0.03, 1, 0.95])\n",
    "# Show the plots\n",
    "plt.show()\n"
   ]
  },
  {
   "cell_type": "markdown",
   "metadata": {},
   "source": [
    "<details>\n",
    "<summary>\n",
    "Click to Read My Observations!\n",
    "</summary>\n",
    "<p>\n",
    "The Top Selling <code>Product ID</code> is <code>365</code> which corresponds to a <code>product name</code>: <code>Perfect Fitness Perfect Rip Deck</code> this indicates a fast-moving product. I will focus the demand forecasting process on this product going forward\n",
    "</p>\n",
    "<p>\n",
    "The distribution of <code>Sales Value</code> and <code>Sales per customer</code> are both positively skewed with a long tail. This indicates that the majority of sales are for low-value products. This is an interesting insight because it may suggest that the majority of customers are price-sensitive.\n",
    "</p>\n",
    "<p>\n",
    "The distribution of <code>Product Price</code> is also positively skewed with a long tail. This means that the majority of products are low-value products.\n",
    "</p>\n",
    "<p>\n",
    "The distribution of <code>Customer Segment</code> indicates that the majority of customers are from the consumer segment.\n",
    "</p>\n",
    "</details>"
   ]
  },
  {
   "cell_type": "markdown",
   "metadata": {},
   "source": [
    "\n",
    "\n",
    "**NOTE**: Based on the insight from the univariate analysis, The rest of the analysis and forecasting will focus on the top-selling `Product Card Id` (365 ‘Perfect Fitness Perfect Rip Deck’)\n",
    "\n",
    "\n"
   ]
  },
  {
   "cell_type": "markdown",
   "metadata": {},
   "source": [
    "## Exploratory Time Series Visualisation\n",
    "<p>To understand the demand patterns of the top-selling product, let's create a time series heatmap to visualize the demand patterns of the top-selling product over time.</p>"
   ]
  },
  {
   "cell_type": "markdown",
   "metadata": {},
   "source": [
    "### Time Series HeatMap of The Demand"
   ]
  },
  {
   "cell_type": "code",
   "execution_count": 15,
   "metadata": {},
   "outputs": [
    {
     "name": "stderr",
     "output_type": "stream",
     "text": [
      "/var/folders/93/z0tnbmln31s9n49wgkxtygfh0000gn/T/ipykernel_1153/1033353534.py:12: FutureWarning: 'M' is deprecated and will be removed in a future version, please use 'ME' instead.\n",
      "  resampled_df = df_heatmap.resample('M').sum()  # Resample to yearly frequency\n"
     ]
    },
    {
     "data": {
      "image/png": "[encoded data removed]",
      "text/plain": [
       "<Figure size 2000x1000 with 2 Axes>"
      ]
     },
     "metadata": {},
     "output_type": "display_data"
    }
   ],
   "source": [
    "#| code-fold: true\n",
    "#| code-summary: \"Show the code\"\t\n",
    "import seaborn as sns\n",
    "import matplotlib.pyplot as plt\n",
    "import calendar\n",
    "\n",
    "# Extract shipping date (DateOrders) and Sales columns\n",
    "df_heatmap = df[['shipping date (DateOrders)', 'Sales']]\n",
    "# Assuming 'df' is your original dataframe\n",
    "\n",
    "df_heatmap.set_index('shipping date (DateOrders)', inplace=True)\n",
    "resampled_df = df_heatmap.resample('M').sum()  # Resample to yearly frequency\n",
    "# Set x-axis ticks to represent months and years\n",
    "month_labels = [calendar.month_abbr[m.month] + '-' + str(m.year) for m in resampled_df.index]\n",
    "# Plot the heatmap\n",
    "plt.figure(figsize=(20, 10))\n",
    "sns.heatmap(resampled_df.T, cmap='YlGnBu', cbar_kws={'label': 'Sales'})\n",
    "plt.xticks(ticks=range(len(month_labels)), labels=month_labels, rotation=80, ha='right')\n",
    "\n",
    "plt.title('Time Series Heatmap of Sales (Aggregated by Month)')\n",
    "plt.xlabel('Month and Year')\n",
    "\n",
    "\n",
    "plt.show()"
   ]
  },
  {
   "cell_type": "markdown",
   "metadata": {},
   "source": [
    "<p>Judging from consistency in the shades of the heatmap, we can see that the demand for the top-selling product is fairly stable over time. However, it is interesting to note that the number of sales recorded for the first quarters of <code>2015</code>, <code>2016</code> and <code>2017</code> remained consistent however in 2018 the number of sales recorded in the first quarter dipped significantly. This is an interesting insight that we can explore further.\n",
    "</p>\n",
    "<p>\n",
    "Next, Let's use the <code>Prophet</code> library to model the demand for the top-selling product. This will help us understand the cyclical patterns in the demand for the top-selling product\n",
    "</p>\n"
   ]
  },
  {
   "cell_type": "markdown",
   "metadata": {},
   "source": [
    "\n",
    "<h1>\n",
    "Forecasting Demand with Prophet\n",
    "</h1>\n",
    "<p>\n",
    "Prophet is a forecasting tool developed by Facebook. It is designed for analyzing time series data that display patterns on different time scales such as yearly, weekly, and daily. It also has advanced capabilities for modeling the effects of holidays on a time series and implementing custom seasonalities. see the documentation <a href=\"https://facebook.github.io/prophet/docs/quick_start.html\">here</a>\n",
    "</p>"
   ]
  },
  {
   "cell_type": "code",
   "execution_count": 16,
   "metadata": {},
   "outputs": [
    {
     "ename": "FileNotFoundError",
     "evalue": "[Errno 2] No such file or directory: 'data/puertorican_holidays.csv'",
     "output_type": "error",
     "traceback": [
      "\u001b[0;31m---------------------------------------------------------------------------\u001b[0m",
      "\u001b[0;31mFileNotFoundError\u001b[0m                         Traceback (most recent call last)",
      "Cell \u001b[0;32mIn[16], line 11\u001b[0m\n\u001b[1;32m      8\u001b[0m prophet_df \u001b[38;5;241m=\u001b[39m prophet_df\u001b[38;5;241m.\u001b[39mrename(columns\u001b[38;5;241m=\u001b[39m{\u001b[38;5;124m'\u001b[39m\u001b[38;5;124mshipping date (DateOrders)\u001b[39m\u001b[38;5;124m'\u001b[39m: \u001b[38;5;124m'\u001b[39m\u001b[38;5;124mds\u001b[39m\u001b[38;5;124m'\u001b[39m, \u001b[38;5;124m'\u001b[39m\u001b[38;5;124mSales\u001b[39m\u001b[38;5;124m'\u001b[39m: \u001b[38;5;124m'\u001b[39m\u001b[38;5;124my\u001b[39m\u001b[38;5;124m'\u001b[39m})\n\u001b[1;32m      9\u001b[0m \u001b[38;5;66;03m# Add custom Puerto Rico holidays\u001b[39;00m\n\u001b[1;32m     10\u001b[0m \u001b[38;5;66;03m# Read the CSV file\u001b[39;00m\n\u001b[0;32m---> 11\u001b[0m holidays_df \u001b[38;5;241m=\u001b[39m pd\u001b[38;5;241m.\u001b[39mread_csv(\u001b[38;5;124m'\u001b[39m\u001b[38;5;124mdata/puertorican_holidays.csv\u001b[39m\u001b[38;5;124m'\u001b[39m)\n\u001b[1;32m     13\u001b[0m \u001b[38;5;66;03m# Rename the 'Date' column to 'ds' and the 'Name' column to 'holiday'\u001b[39;00m\n\u001b[1;32m     14\u001b[0m holidays_df \u001b[38;5;241m=\u001b[39m holidays_df\u001b[38;5;241m.\u001b[39mrename(columns\u001b[38;5;241m=\u001b[39m{\u001b[38;5;124m'\u001b[39m\u001b[38;5;124mDate\u001b[39m\u001b[38;5;124m'\u001b[39m: \u001b[38;5;124m'\u001b[39m\u001b[38;5;124mds\u001b[39m\u001b[38;5;124m'\u001b[39m, \u001b[38;5;124m'\u001b[39m\u001b[38;5;124mName\u001b[39m\u001b[38;5;124m'\u001b[39m: \u001b[38;5;124m'\u001b[39m\u001b[38;5;124mholiday\u001b[39m\u001b[38;5;124m'\u001b[39m})\n",
      "File \u001b[0;32m/opt/anaconda3/lib/python3.12/site-packages/pandas/io/parsers/readers.py:1026\u001b[0m, in \u001b[0;36mread_csv\u001b[0;34m(filepath_or_buffer, sep, delimiter, header, names, index_col, usecols, dtype, engine, converters, true_values, false_values, skipinitialspace, skiprows, skipfooter, nrows, na_values, keep_default_na, na_filter, verbose, skip_blank_lines, parse_dates, infer_datetime_format, keep_date_col, date_parser, date_format, dayfirst, cache_dates, iterator, chunksize, compression, thousands, decimal, lineterminator, quotechar, quoting, doublequote, escapechar, comment, encoding, encoding_errors, dialect, on_bad_lines, delim_whitespace, low_memory, memory_map, float_precision, storage_options, dtype_backend)\u001b[0m\n\u001b[1;32m   1013\u001b[0m kwds_defaults \u001b[38;5;241m=\u001b[39m _refine_defaults_read(\n\u001b[1;32m   1014\u001b[0m     dialect,\n\u001b[1;32m   1015\u001b[0m     delimiter,\n\u001b[0;32m   (...)\u001b[0m\n\u001b[1;32m   1022\u001b[0m     dtype_backend\u001b[38;5;241m=\u001b[39mdtype_backend,\n\u001b[1;32m   1023\u001b[0m )\n\u001b[1;32m   1024\u001b[0m kwds\u001b[38;5;241m.\u001b[39mupdate(kwds_defaults)\n\u001b[0;32m-> 1026\u001b[0m \u001b[38;5;28;01mreturn\u001b[39;00m _read(filepath_or_buffer, kwds)\n",
      "File \u001b[0;32m/opt/anaconda3/lib/python3.12/site-packages/pandas/io/parsers/readers.py:620\u001b[0m, in \u001b[0;36m_read\u001b[0;34m(filepath_or_buffer, kwds)\u001b[0m\n\u001b[1;32m    617\u001b[0m _validate_names(kwds\u001b[38;5;241m.\u001b[39mget(\u001b[38;5;124m\"\u001b[39m\u001b[38;5;124mnames\u001b[39m\u001b[38;5;124m\"\u001b[39m, \u001b[38;5;28;01mNone\u001b[39;00m))\n\u001b[1;32m    619\u001b[0m \u001b[38;5;66;03m# Create the parser.\u001b[39;00m\n\u001b[0;32m--> 620\u001b[0m parser \u001b[38;5;241m=\u001b[39m TextFileReader(filepath_or_buffer, \u001b[38;5;241m*\u001b[39m\u001b[38;5;241m*\u001b[39mkwds)\n\u001b[1;32m    622\u001b[0m \u001b[38;5;28;01mif\u001b[39;00m chunksize \u001b[38;5;129;01mor\u001b[39;00m iterator:\n\u001b[1;32m    623\u001b[0m     \u001b[38;5;28;01mreturn\u001b[39;00m parser\n",
      "File \u001b[0;32m/opt/anaconda3/lib/python3.12/site-packages/pandas/io/parsers/readers.py:1620\u001b[0m, in \u001b[0;36mTextFileReader.__init__\u001b[0;34m(self, f, engine, **kwds)\u001b[0m\n\u001b[1;32m   1617\u001b[0m     \u001b[38;5;28mself\u001b[39m\u001b[38;5;241m.\u001b[39moptions[\u001b[38;5;124m\"\u001b[39m\u001b[38;5;124mhas_index_names\u001b[39m\u001b[38;5;124m\"\u001b[39m] \u001b[38;5;241m=\u001b[39m kwds[\u001b[38;5;124m\"\u001b[39m\u001b[38;5;124mhas_index_names\u001b[39m\u001b[38;5;124m\"\u001b[39m]\n\u001b[1;32m   1619\u001b[0m \u001b[38;5;28mself\u001b[39m\u001b[38;5;241m.\u001b[39mhandles: IOHandles \u001b[38;5;241m|\u001b[39m \u001b[38;5;28;01mNone\u001b[39;00m \u001b[38;5;241m=\u001b[39m \u001b[38;5;28;01mNone\u001b[39;00m\n\u001b[0;32m-> 1620\u001b[0m \u001b[38;5;28mself\u001b[39m\u001b[38;5;241m.\u001b[39m_engine \u001b[38;5;241m=\u001b[39m \u001b[38;5;28mself\u001b[39m\u001b[38;5;241m.\u001b[39m_make_engine(f, \u001b[38;5;28mself\u001b[39m\u001b[38;5;241m.\u001b[39mengine)\n",
      "File \u001b[0;32m/opt/anaconda3/lib/python3.12/site-packages/pandas/io/parsers/readers.py:1880\u001b[0m, in \u001b[0;36mTextFileReader._make_engine\u001b[0;34m(self, f, engine)\u001b[0m\n\u001b[1;32m   1878\u001b[0m     \u001b[38;5;28;01mif\u001b[39;00m \u001b[38;5;124m\"\u001b[39m\u001b[38;5;124mb\u001b[39m\u001b[38;5;124m\"\u001b[39m \u001b[38;5;129;01mnot\u001b[39;00m \u001b[38;5;129;01min\u001b[39;00m mode:\n\u001b[1;32m   1879\u001b[0m         mode \u001b[38;5;241m+\u001b[39m\u001b[38;5;241m=\u001b[39m \u001b[38;5;124m\"\u001b[39m\u001b[38;5;124mb\u001b[39m\u001b[38;5;124m\"\u001b[39m\n\u001b[0;32m-> 1880\u001b[0m \u001b[38;5;28mself\u001b[39m\u001b[38;5;241m.\u001b[39mhandles \u001b[38;5;241m=\u001b[39m get_handle(\n\u001b[1;32m   1881\u001b[0m     f,\n\u001b[1;32m   1882\u001b[0m     mode,\n\u001b[1;32m   1883\u001b[0m     encoding\u001b[38;5;241m=\u001b[39m\u001b[38;5;28mself\u001b[39m\u001b[38;5;241m.\u001b[39moptions\u001b[38;5;241m.\u001b[39mget(\u001b[38;5;124m\"\u001b[39m\u001b[38;5;124mencoding\u001b[39m\u001b[38;5;124m\"\u001b[39m, \u001b[38;5;28;01mNone\u001b[39;00m),\n\u001b[1;32m   1884\u001b[0m     compression\u001b[38;5;241m=\u001b[39m\u001b[38;5;28mself\u001b[39m\u001b[38;5;241m.\u001b[39moptions\u001b[38;5;241m.\u001b[39mget(\u001b[38;5;124m\"\u001b[39m\u001b[38;5;124mcompression\u001b[39m\u001b[38;5;124m\"\u001b[39m, \u001b[38;5;28;01mNone\u001b[39;00m),\n\u001b[1;32m   1885\u001b[0m     memory_map\u001b[38;5;241m=\u001b[39m\u001b[38;5;28mself\u001b[39m\u001b[38;5;241m.\u001b[39moptions\u001b[38;5;241m.\u001b[39mget(\u001b[38;5;124m\"\u001b[39m\u001b[38;5;124mmemory_map\u001b[39m\u001b[38;5;124m\"\u001b[39m, \u001b[38;5;28;01mFalse\u001b[39;00m),\n\u001b[1;32m   1886\u001b[0m     is_text\u001b[38;5;241m=\u001b[39mis_text,\n\u001b[1;32m   1887\u001b[0m     errors\u001b[38;5;241m=\u001b[39m\u001b[38;5;28mself\u001b[39m\u001b[38;5;241m.\u001b[39moptions\u001b[38;5;241m.\u001b[39mget(\u001b[38;5;124m\"\u001b[39m\u001b[38;5;124mencoding_errors\u001b[39m\u001b[38;5;124m\"\u001b[39m, \u001b[38;5;124m\"\u001b[39m\u001b[38;5;124mstrict\u001b[39m\u001b[38;5;124m\"\u001b[39m),\n\u001b[1;32m   1888\u001b[0m     storage_options\u001b[38;5;241m=\u001b[39m\u001b[38;5;28mself\u001b[39m\u001b[38;5;241m.\u001b[39moptions\u001b[38;5;241m.\u001b[39mget(\u001b[38;5;124m\"\u001b[39m\u001b[38;5;124mstorage_options\u001b[39m\u001b[38;5;124m\"\u001b[39m, \u001b[38;5;28;01mNone\u001b[39;00m),\n\u001b[1;32m   1889\u001b[0m )\n\u001b[1;32m   1890\u001b[0m \u001b[38;5;28;01massert\u001b[39;00m \u001b[38;5;28mself\u001b[39m\u001b[38;5;241m.\u001b[39mhandles \u001b[38;5;129;01mis\u001b[39;00m \u001b[38;5;129;01mnot\u001b[39;00m \u001b[38;5;28;01mNone\u001b[39;00m\n\u001b[1;32m   1891\u001b[0m f \u001b[38;5;241m=\u001b[39m \u001b[38;5;28mself\u001b[39m\u001b[38;5;241m.\u001b[39mhandles\u001b[38;5;241m.\u001b[39mhandle\n",
      "File \u001b[0;32m/opt/anaconda3/lib/python3.12/site-packages/pandas/io/common.py:873\u001b[0m, in \u001b[0;36mget_handle\u001b[0;34m(path_or_buf, mode, encoding, compression, memory_map, is_text, errors, storage_options)\u001b[0m\n\u001b[1;32m    868\u001b[0m \u001b[38;5;28;01melif\u001b[39;00m \u001b[38;5;28misinstance\u001b[39m(handle, \u001b[38;5;28mstr\u001b[39m):\n\u001b[1;32m    869\u001b[0m     \u001b[38;5;66;03m# Check whether the filename is to be opened in binary mode.\u001b[39;00m\n\u001b[1;32m    870\u001b[0m     \u001b[38;5;66;03m# Binary mode does not support 'encoding' and 'newline'.\u001b[39;00m\n\u001b[1;32m    871\u001b[0m     \u001b[38;5;28;01mif\u001b[39;00m ioargs\u001b[38;5;241m.\u001b[39mencoding \u001b[38;5;129;01mand\u001b[39;00m \u001b[38;5;124m\"\u001b[39m\u001b[38;5;124mb\u001b[39m\u001b[38;5;124m\"\u001b[39m \u001b[38;5;129;01mnot\u001b[39;00m \u001b[38;5;129;01min\u001b[39;00m ioargs\u001b[38;5;241m.\u001b[39mmode:\n\u001b[1;32m    872\u001b[0m         \u001b[38;5;66;03m# Encoding\u001b[39;00m\n\u001b[0;32m--> 873\u001b[0m         handle \u001b[38;5;241m=\u001b[39m \u001b[38;5;28mopen\u001b[39m(\n\u001b[1;32m    874\u001b[0m             handle,\n\u001b[1;32m    875\u001b[0m             ioargs\u001b[38;5;241m.\u001b[39mmode,\n\u001b[1;32m    876\u001b[0m             encoding\u001b[38;5;241m=\u001b[39mioargs\u001b[38;5;241m.\u001b[39mencoding,\n\u001b[1;32m    877\u001b[0m             errors\u001b[38;5;241m=\u001b[39merrors,\n\u001b[1;32m    878\u001b[0m             newline\u001b[38;5;241m=\u001b[39m\u001b[38;5;124m\"\u001b[39m\u001b[38;5;124m\"\u001b[39m,\n\u001b[1;32m    879\u001b[0m         )\n\u001b[1;32m    880\u001b[0m     \u001b[38;5;28;01melse\u001b[39;00m:\n\u001b[1;32m    881\u001b[0m         \u001b[38;5;66;03m# Binary mode\u001b[39;00m\n\u001b[1;32m    882\u001b[0m         handle \u001b[38;5;241m=\u001b[39m \u001b[38;5;28mopen\u001b[39m(handle, ioargs\u001b[38;5;241m.\u001b[39mmode)\n",
      "\u001b[0;31mFileNotFoundError\u001b[0m: [Errno 2] No such file or directory: 'data/puertorican_holidays.csv'"
     ]
    }
   ],
   "source": [
    "#| code-fold: true\n",
    "#| code-summary: \"Show the code\"\n",
    "\n",
    "# import prophet\n",
    "from prophet import Prophet\n",
    "\n",
    "prophet_df = df.copy()\n",
    "prophet_df = prophet_df.rename(columns={'shipping date (DateOrders)': 'ds', 'Sales': 'y'})\n",
    "# Add custom Puerto Rico holidays\n",
    "# Read the CSV file\n",
    "holidays_df = pd.read_csv('data/puertorican_holidays.csv')\n",
    "\n",
    "# Rename the 'Date' column to 'ds' and the 'Name' column to 'holiday'\n",
    "holidays_df = holidays_df.rename(columns={'Date': 'ds', 'Name': 'holiday'})\n",
    "\n",
    "# Drop the 'Type' column as it's not needed\n",
    "holidays_df = holidays_df.drop(columns=['Type'])\n",
    "\n",
    "# Add 'lower_window' and 'upper_window' columns\n",
    "holidays_df['lower_window'] = 0\n",
    "holidays_df['upper_window'] = 1\n",
    "\n",
    "# Convert 'ds' to DateTime\n",
    "holidays_df['ds'] = pd.to_datetime(holidays_df['ds'])\n",
    "\n",
    "# Create a Prophet instance and provide the holidays DataFrame\n",
    "prophet = Prophet(holidays=holidays_df)\n",
    "\n",
    "prophet.fit(prophet_df)\n",
    "\n",
    "# Create a DataFrame with future dates for forecasting\n",
    "future = prophet.make_future_dataframe(periods=365, freq='D')\n",
    "\n",
    "# Generate forecasts\n",
    "forecast = prophet.predict(future) "
   ]
  },
  {
   "cell_type": "code",
   "execution_count": 17,
   "metadata": {},
   "outputs": [
    {
     "name": "stderr",
     "output_type": "stream",
     "text": [
      "12:46:56 - cmdstanpy - INFO - Chain [1] start processing\n",
      "12:48:50 - cmdstanpy - INFO - Chain [1] done processing\n"
     ]
    }
   ],
   "source": [
    "# Import necessary libraries\n",
    "import pandas as pd\n",
    "from prophet import Prophet\n",
    "import holidays\n",
    "\n",
    "# Prepare your DataFrame\n",
    "prophet_df = df.copy()\n",
    "prophet_df = prophet_df.rename(columns={'shipping date (DateOrders)': 'ds', 'Sales': 'y'})\n",
    "\n",
    "# Generate Puerto Rican holidays\n",
    "pr_holidays = holidays.PuertoRico(years=range(prophet_df['ds'].dt.year.min(), prophet_df['ds'].dt.year.max() + 1))\n",
    "holidays_df = pd.DataFrame(list(pr_holidays.items()), columns=['ds', 'holiday'])\n",
    "\n",
    "# Create a Prophet instance with the holidays DataFrame\n",
    "prophet = Prophet(holidays=holidays_df)\n",
    "\n",
    "# Fit the model\n",
    "prophet.fit(prophet_df)\n",
    "\n",
    "# Create a DataFrame with future dates for forecasting\n",
    "future = prophet.make_future_dataframe(periods=365, freq='D')\n",
    "\n",
    "# Generate forecasts\n",
    "forecast = prophet.predict(future)\n"
   ]
  },
  {
   "cell_type": "markdown",
   "metadata": {},
   "source": [
    "<p>\n",
    "The code above uses the <code>Prophet</code> library to model the demand for the top-selling product. The model is trained on the <code>Sales</code> and <code>Shipping Date</code> columns. The model is then used to forecast the demand for the top-selling product over the next 365 days.\n",
    "</p>\n",
    "<p>\n",
    "The code also included Puerto Rican holidays to account for the impact of holidays on the demand for the top-selling product. This is important because holidays can have a significant impact on demand patterns.\n",
    "</p>\n",
    "<p>\n",
    "You might wonder why Puerto Rican holidays were included in the model. From the univariate analysis conducted earlier, we discovered that most of the orders were coming from Puerto Rico. The <code>forecast</code> variable now contains the forecasted values for the top-selling product. we will work with the variable later but for now, let’s evaluate the accuracy of our prophet model\n",
    "</p>"
   ]
  },
  {
   "cell_type": "markdown",
   "metadata": {},
   "source": [
    "<h3>Evaluating the Accuracy of the Time Series Forecast</h3>"
   ]
  },
  {
   "cell_type": "markdown",
   "metadata": {},
   "source": [
    "<p>To determine the accuracy of the prophet model, we will use the `cross_validationa()` function provided by `Prophet`</p>"
   ]
  },
  {
   "cell_type": "code",
   "execution_count": 18,
   "metadata": {},
   "outputs": [
    {
     "data": {
      "application/vnd.jupyter.widget-view+json": {
       "model_id": "6662f2319a9145dbadc8765cc439f073",
       "version_major": 2,
       "version_minor": 0
      },
      "text/plain": [
       "  0%|          | 0/1 [00:00<?, ?it/s]"
      ]
     },
     "metadata": {},
     "output_type": "display_data"
    },
    {
     "name": "stderr",
     "output_type": "stream",
     "text": [
      "12:49:06 - cmdstanpy - INFO - Chain [1] start processing\n",
      "12:49:20 - cmdstanpy - INFO - Chain [1] done processing\n"
     ]
    }
   ],
   "source": [
    "from prophet.diagnostics import cross_validation, performance_metrics\n",
    "# Perform cross-validation\n",
    "df_cv = cross_validation(model=prophet, initial='730 days', period='365 days', horizon='365 days')"
   ]
  },
  {
   "cell_type": "markdown",
   "metadata": {},
   "source": [
    "<p>\n",
    "The <code>cross_validation()</code> function performs cross-validation on the model. It trains the model on a subset of the data and then evaluates the model on the remaining data. This is a good way to evaluate the accuracy of the model. The <code>initial</code> parameter specifies the size of the training set. The <code>period</code> parameter specifies the frequency of the forecast.\n",
    "</p>\n",
    "<p>\n",
    "Let’s visualize the performance of the model\n",
    "</p>"
   ]
  },
  {
   "cell_type": "code",
   "execution_count": 19,
   "metadata": {},
   "outputs": [
    {
     "name": "stderr",
     "output_type": "stream",
     "text": [
      "/opt/anaconda3/lib/python3.12/site-packages/prophet/plot.py:546: FutureWarning: Series.view is deprecated and will be removed in a future version. Use ``astype`` as an alternative to change the dtype.\n",
      "  x_plt = df_none['horizon'].astype('timedelta64[ns]').view(np.int64) / float(dt_conversions[i])\n",
      "/opt/anaconda3/lib/python3.12/site-packages/prophet/plot.py:547: FutureWarning: Series.view is deprecated and will be removed in a future version. Use ``astype`` as an alternative to change the dtype.\n",
      "  x_plt_h = df_h['horizon'].astype('timedelta64[ns]').view(np.int64) / float(dt_conversions[i])\n"
     ]
    },
    {
     "data": {
      "text/plain": [
       "<Figure size 900x600 with 0 Axes>"
      ]
     },
     "metadata": {},
     "output_type": "display_data"
    },
    {
     "data": {
      "image/png": "[encoded data removed]",
      "text/plain": [
       "<Figure size 1000x600 with 1 Axes>"
      ]
     },
     "metadata": {},
     "output_type": "display_data"
    }
   ],
   "source": [
    "# Plot MAPE\n",
    "from prophet.plot import plot_cross_validation_metric\n",
    "#  set fig size\n",
    "plt.figure(figsize=(9, 6))\n",
    "fig = plot_cross_validation_metric(df_cv, metric='mape')\n",
    "fig.get_axes()[0].get_lines()[0].set_markerfacecolor('#ADD8E7')  # Change color of the dots\n",
    "fig.get_axes()[0].get_lines()[0].set_markeredgecolor('#ADD8E7')  # Change color of the dot edges"
   ]
  },
  {
   "cell_type": "markdown",
   "metadata": {},
   "source": [
    "<p>\n",
    "The forecast has lower `MAPE` (Mean Absolute Percentage Error) values for horizons within the 200-day range however the accuracy drops for horizons beyond 250 days. This suggests that the model is making more errors at periods beyond 250 days.\n",
    "</p>\n",
    "<p>\n",
    "The model will be most useful to stakeholders if it can forecast demand beyond 250 days with a lower percentage of errors. Exposing the model to more historical data may help lower the MAPE significantly. nonetheless, let’s explore if there are opportunities to improve the accuracy by finding the best combinations of hyperparameters for the prophet model. I will use a <a href=\"https://aws.amazon.com/what-is/hyperparameter-tuning/#:~:text=Hyperparameter%20tuning%20allows%20data%20scientists,the%20model%20as%20a%20hyperparameter.\">hyperparameter tuning</a> technique to try to optimize the model’s performance.\n",
    "</p>\n",
    "<h4 class=\"anchored\">\n",
    "Finding the Best Hyperparameter Combination for Lower MAPE\n",
    "</h4>"
   ]
  },
  {
   "cell_type": "code",
   "execution_count": 20,
   "metadata": {},
   "outputs": [],
   "source": [
    "#| code-fold: true\n",
    "#| code-summary: \"Show the code\"\n",
    "from sklearn.model_selection import ParameterGrid\n",
    "\n",
    "# Assuming prophet_df is your DataFrame with 'ds' and 'y' columns\n",
    "prophet_df = df.copy()\n",
    "prophet_df = prophet_df.rename(columns={'shipping date (DateOrders)': 'ds', 'Sales': 'y'})\n",
    "\n",
    "# Specify hyperparameter values to try\n",
    "param_grid = {\n",
    "    'seasonality_mode': [\"additive\", 'multiplicative'],\n",
    "    'seasonality_prior_scale': [1, 5, 10, 20],\n",
    "    'holidays_prior_scale': [5, 10, 20, 25],\n",
    "    'changepoint_prior_scale': [0.005, 0.01, 0.05, 0.1]\n",
    "}\n",
    "\n",
    "# Generate all combinations of hyperparameters using ParameterGrid\n",
    "param_combinations = ParameterGrid(param_grid)"
   ]
  },
  {
   "cell_type": "markdown",
   "metadata": {},
   "source": [
    "<p>\n",
    "The code above uses the <code>ParameterGrid</code> function from the <code>sklearn</code> library to create a grid of hyperparameters. The grid contains different combinations of hyperparameters for the prophet model.\n",
    "</p><p>\n",
    "On the other hand, the code below uses the <code>cross_validation()</code> function to evaluate the accuracy of the model for each combination of hyperparameters. The code then selects the combination of hyperparameters that results in the lowest MAPE.\n",
    "</p>"
   ]
  },
  {
   "cell_type": "code",
   "execution_count": 22,
   "metadata": {},
   "outputs": [
    {
     "name": "stdout",
     "output_type": "stream",
     "text": [
      "trying all 128 hyperparameter combinations\n"
     ]
    },
    {
     "ename": "KeyboardInterrupt",
     "evalue": "",
     "output_type": "error",
     "traceback": [
      "\u001b[0;31m---------------------------------------------------------------------------\u001b[0m",
      "\u001b[0;31mKeyboardInterrupt\u001b[0m                         Traceback (most recent call last)",
      "Cell \u001b[0;32mIn[22], line 15\u001b[0m\n\u001b[1;32m     12\u001b[0m prophet \u001b[38;5;241m=\u001b[39m Prophet(\u001b[38;5;241m*\u001b[39m\u001b[38;5;241m*\u001b[39m\u001b[38;5;28mdict\u001b[39m(\u001b[38;5;28mzip\u001b[39m(param_grid\u001b[38;5;241m.\u001b[39mkeys(), params)))\n\u001b[1;32m     14\u001b[0m \u001b[38;5;66;03m# Fit the model\u001b[39;00m\n\u001b[0;32m---> 15\u001b[0m prophet\u001b[38;5;241m.\u001b[39mfit(prophet_df)\n\u001b[1;32m     17\u001b[0m \u001b[38;5;66;03m# Perform cross-validation\u001b[39;00m\n\u001b[1;32m     18\u001b[0m df_cv \u001b[38;5;241m=\u001b[39m cross_validation(model\u001b[38;5;241m=\u001b[39mprophet, initial\u001b[38;5;241m=\u001b[39m\u001b[38;5;124m'\u001b[39m\u001b[38;5;124m730 days\u001b[39m\u001b[38;5;124m'\u001b[39m, period\u001b[38;5;241m=\u001b[39m\u001b[38;5;124m'\u001b[39m\u001b[38;5;124m365 days\u001b[39m\u001b[38;5;124m'\u001b[39m, horizon\u001b[38;5;241m=\u001b[39m\u001b[38;5;124m'\u001b[39m\u001b[38;5;124m365 days\u001b[39m\u001b[38;5;124m'\u001b[39m)\n",
      "File \u001b[0;32m/opt/anaconda3/lib/python3.12/site-packages/prophet/forecaster.py:1232\u001b[0m, in \u001b[0;36mProphet.fit\u001b[0;34m(self, df, **kwargs)\u001b[0m\n\u001b[1;32m   1230\u001b[0m     \u001b[38;5;28mself\u001b[39m\u001b[38;5;241m.\u001b[39mparams \u001b[38;5;241m=\u001b[39m \u001b[38;5;28mself\u001b[39m\u001b[38;5;241m.\u001b[39mstan_backend\u001b[38;5;241m.\u001b[39msampling(stan_init, dat, \u001b[38;5;28mself\u001b[39m\u001b[38;5;241m.\u001b[39mmcmc_samples, \u001b[38;5;241m*\u001b[39m\u001b[38;5;241m*\u001b[39mkwargs)\n\u001b[1;32m   1231\u001b[0m \u001b[38;5;28;01melse\u001b[39;00m:\n\u001b[0;32m-> 1232\u001b[0m     \u001b[38;5;28mself\u001b[39m\u001b[38;5;241m.\u001b[39mparams \u001b[38;5;241m=\u001b[39m \u001b[38;5;28mself\u001b[39m\u001b[38;5;241m.\u001b[39mstan_backend\u001b[38;5;241m.\u001b[39mfit(stan_init, dat, \u001b[38;5;241m*\u001b[39m\u001b[38;5;241m*\u001b[39mkwargs)\n\u001b[1;32m   1234\u001b[0m \u001b[38;5;28mself\u001b[39m\u001b[38;5;241m.\u001b[39mstan_fit \u001b[38;5;241m=\u001b[39m \u001b[38;5;28mself\u001b[39m\u001b[38;5;241m.\u001b[39mstan_backend\u001b[38;5;241m.\u001b[39mstan_fit\n\u001b[1;32m   1235\u001b[0m \u001b[38;5;66;03m# If no changepoints were requested, replace delta with 0s\u001b[39;00m\n",
      "File \u001b[0;32m/opt/anaconda3/lib/python3.12/site-packages/prophet/models.py:121\u001b[0m, in \u001b[0;36mCmdStanPyBackend.fit\u001b[0;34m(self, stan_init, stan_data, **kwargs)\u001b[0m\n\u001b[1;32m    118\u001b[0m args\u001b[38;5;241m.\u001b[39mupdate(kwargs)\n\u001b[1;32m    120\u001b[0m \u001b[38;5;28;01mtry\u001b[39;00m:\n\u001b[0;32m--> 121\u001b[0m     \u001b[38;5;28mself\u001b[39m\u001b[38;5;241m.\u001b[39mstan_fit \u001b[38;5;241m=\u001b[39m \u001b[38;5;28mself\u001b[39m\u001b[38;5;241m.\u001b[39mmodel\u001b[38;5;241m.\u001b[39moptimize(\u001b[38;5;241m*\u001b[39m\u001b[38;5;241m*\u001b[39margs)\n\u001b[1;32m    122\u001b[0m \u001b[38;5;28;01mexcept\u001b[39;00m \u001b[38;5;167;01mRuntimeError\u001b[39;00m \u001b[38;5;28;01mas\u001b[39;00m e:\n\u001b[1;32m    123\u001b[0m     \u001b[38;5;66;03m# Fall back on Newton\u001b[39;00m\n\u001b[1;32m    124\u001b[0m     \u001b[38;5;28;01mif\u001b[39;00m \u001b[38;5;129;01mnot\u001b[39;00m \u001b[38;5;28mself\u001b[39m\u001b[38;5;241m.\u001b[39mnewton_fallback \u001b[38;5;129;01mor\u001b[39;00m args[\u001b[38;5;124m'\u001b[39m\u001b[38;5;124malgorithm\u001b[39m\u001b[38;5;124m'\u001b[39m] \u001b[38;5;241m==\u001b[39m \u001b[38;5;124m'\u001b[39m\u001b[38;5;124mNewton\u001b[39m\u001b[38;5;124m'\u001b[39m:\n",
      "File \u001b[0;32m/opt/anaconda3/lib/python3.12/site-packages/cmdstanpy/model.py:626\u001b[0m, in \u001b[0;36mCmdStanModel.optimize\u001b[0;34m(self, data, seed, inits, output_dir, sig_figs, save_profile, algorithm, init_alpha, tol_obj, tol_rel_obj, tol_grad, tol_rel_grad, tol_param, history_size, iter, save_iterations, require_converged, show_console, refresh, time_fmt, timeout, jacobian)\u001b[0m\n\u001b[1;32m    620\u001b[0m \u001b[38;5;28;01mif\u001b[39;00m jacobian \u001b[38;5;129;01mand\u001b[39;00m cmdstan_version_before(\u001b[38;5;241m2\u001b[39m, \u001b[38;5;241m32\u001b[39m, \u001b[38;5;28mself\u001b[39m\u001b[38;5;241m.\u001b[39mexe_info()):\n\u001b[1;32m    621\u001b[0m     \u001b[38;5;28;01mraise\u001b[39;00m \u001b[38;5;167;01mValueError\u001b[39;00m(\n\u001b[1;32m    622\u001b[0m         \u001b[38;5;124m\"\u001b[39m\u001b[38;5;124mJacobian adjustment for optimization is only supported \u001b[39m\u001b[38;5;124m\"\u001b[39m\n\u001b[1;32m    623\u001b[0m         \u001b[38;5;124m\"\u001b[39m\u001b[38;5;124min CmdStan 2.32 and above.\u001b[39m\u001b[38;5;124m\"\u001b[39m\n\u001b[1;32m    624\u001b[0m     )\n\u001b[0;32m--> 626\u001b[0m \u001b[38;5;28;01mwith\u001b[39;00m temp_single_json(data) \u001b[38;5;28;01mas\u001b[39;00m _data, temp_inits(\n\u001b[1;32m    627\u001b[0m     inits, allow_multiple\u001b[38;5;241m=\u001b[39m\u001b[38;5;28;01mFalse\u001b[39;00m\n\u001b[1;32m    628\u001b[0m ) \u001b[38;5;28;01mas\u001b[39;00m _inits:\n\u001b[1;32m    629\u001b[0m     args \u001b[38;5;241m=\u001b[39m CmdStanArgs(\n\u001b[1;32m    630\u001b[0m         \u001b[38;5;28mself\u001b[39m\u001b[38;5;241m.\u001b[39m_name,\n\u001b[1;32m    631\u001b[0m         \u001b[38;5;28mself\u001b[39m\u001b[38;5;241m.\u001b[39m_exe_file,\n\u001b[0;32m   (...)\u001b[0m\n\u001b[1;32m    640\u001b[0m         refresh\u001b[38;5;241m=\u001b[39mrefresh,\n\u001b[1;32m    641\u001b[0m     )\n\u001b[1;32m    642\u001b[0m     dummy_chain_id \u001b[38;5;241m=\u001b[39m \u001b[38;5;241m0\u001b[39m\n",
      "File \u001b[0;32m/opt/anaconda3/lib/python3.12/contextlib.py:137\u001b[0m, in \u001b[0;36m_GeneratorContextManager.__enter__\u001b[0;34m(self)\u001b[0m\n\u001b[1;32m    135\u001b[0m \u001b[38;5;28;01mdel\u001b[39;00m \u001b[38;5;28mself\u001b[39m\u001b[38;5;241m.\u001b[39margs, \u001b[38;5;28mself\u001b[39m\u001b[38;5;241m.\u001b[39mkwds, \u001b[38;5;28mself\u001b[39m\u001b[38;5;241m.\u001b[39mfunc\n\u001b[1;32m    136\u001b[0m \u001b[38;5;28;01mtry\u001b[39;00m:\n\u001b[0;32m--> 137\u001b[0m     \u001b[38;5;28;01mreturn\u001b[39;00m \u001b[38;5;28mnext\u001b[39m(\u001b[38;5;28mself\u001b[39m\u001b[38;5;241m.\u001b[39mgen)\n\u001b[1;32m    138\u001b[0m \u001b[38;5;28;01mexcept\u001b[39;00m \u001b[38;5;167;01mStopIteration\u001b[39;00m:\n\u001b[1;32m    139\u001b[0m     \u001b[38;5;28;01mraise\u001b[39;00m \u001b[38;5;167;01mRuntimeError\u001b[39;00m(\u001b[38;5;124m\"\u001b[39m\u001b[38;5;124mgenerator didn\u001b[39m\u001b[38;5;124m'\u001b[39m\u001b[38;5;124mt yield\u001b[39m\u001b[38;5;124m\"\u001b[39m) \u001b[38;5;28;01mfrom\u001b[39;00m \u001b[38;5;28;01mNone\u001b[39;00m\n",
      "File \u001b[0;32m/opt/anaconda3/lib/python3.12/site-packages/cmdstanpy/utils/filesystem.py:119\u001b[0m, in \u001b[0;36m_temp_single_json\u001b[0;34m(data)\u001b[0m\n\u001b[1;32m    117\u001b[0m data_file \u001b[38;5;241m=\u001b[39m create_named_text_file(\u001b[38;5;28mdir\u001b[39m\u001b[38;5;241m=\u001b[39m_TMPDIR, prefix\u001b[38;5;241m=\u001b[39m\u001b[38;5;124m'\u001b[39m\u001b[38;5;124m'\u001b[39m, suffix\u001b[38;5;241m=\u001b[39m\u001b[38;5;124m'\u001b[39m\u001b[38;5;124m.json\u001b[39m\u001b[38;5;124m'\u001b[39m)\n\u001b[1;32m    118\u001b[0m get_logger()\u001b[38;5;241m.\u001b[39mdebug(\u001b[38;5;124m'\u001b[39m\u001b[38;5;124minput tempfile: \u001b[39m\u001b[38;5;132;01m%s\u001b[39;00m\u001b[38;5;124m'\u001b[39m, data_file)\n\u001b[0;32m--> 119\u001b[0m write_stan_json(data_file, data)\n\u001b[1;32m    120\u001b[0m \u001b[38;5;28;01mtry\u001b[39;00m:\n\u001b[1;32m    121\u001b[0m     \u001b[38;5;28;01myield\u001b[39;00m data_file\n",
      "File \u001b[0;32m/opt/anaconda3/lib/python3.12/site-packages/stanio/json.py:99\u001b[0m, in \u001b[0;36mwrite_stan_json\u001b[0;34m(path, data)\u001b[0m\n\u001b[1;32m     97\u001b[0m \u001b[38;5;28;01mwith\u001b[39;00m \u001b[38;5;28mopen\u001b[39m(path, \u001b[38;5;124m\"\u001b[39m\u001b[38;5;124mw\u001b[39m\u001b[38;5;124m\"\u001b[39m) \u001b[38;5;28;01mas\u001b[39;00m fd:\n\u001b[1;32m     98\u001b[0m     \u001b[38;5;28;01mif\u001b[39;00m UJSON_AVAILABLE:\n\u001b[0;32m---> 99\u001b[0m         json\u001b[38;5;241m.\u001b[39mdump(process_dictionary(data), fd)\n\u001b[1;32m    100\u001b[0m     \u001b[38;5;28;01melse\u001b[39;00m:\n\u001b[1;32m    101\u001b[0m         \u001b[38;5;28;01mfor\u001b[39;00m chunk \u001b[38;5;129;01min\u001b[39;00m json\u001b[38;5;241m.\u001b[39mJSONEncoder()\u001b[38;5;241m.\u001b[39miterencode(process_dictionary(data)):\n",
      "File \u001b[0;32m/opt/anaconda3/lib/python3.12/site-packages/stanio/json.py:21\u001b[0m, in \u001b[0;36mprocess_dictionary\u001b[0;34m(d)\u001b[0m\n\u001b[1;32m     20\u001b[0m \u001b[38;5;28;01mdef\u001b[39;00m \u001b[38;5;21mprocess_dictionary\u001b[39m(d: Mapping[\u001b[38;5;28mstr\u001b[39m, Any]) \u001b[38;5;241m-\u001b[39m\u001b[38;5;241m>\u001b[39m Mapping[\u001b[38;5;28mstr\u001b[39m, Any]:\n\u001b[0;32m---> 21\u001b[0m     \u001b[38;5;28;01mreturn\u001b[39;00m {k: process_value(v) \u001b[38;5;28;01mfor\u001b[39;00m k, v \u001b[38;5;129;01min\u001b[39;00m d\u001b[38;5;241m.\u001b[39mitems()}\n",
      "File \u001b[0;32m/opt/anaconda3/lib/python3.12/site-packages/stanio/json.py:37\u001b[0m, in \u001b[0;36mprocess_value\u001b[0;34m(val)\u001b[0m\n\u001b[1;32m     35\u001b[0m     \u001b[38;5;28;01mreturn\u001b[39;00m \u001b[38;5;28mdict\u001b[39m(\u001b[38;5;28mzip\u001b[39m(\u001b[38;5;28mrange\u001b[39m(\u001b[38;5;241m1\u001b[39m, \u001b[38;5;28mlen\u001b[39m(val) \u001b[38;5;241m+\u001b[39m \u001b[38;5;241m1\u001b[39m), \u001b[38;5;28mmap\u001b[39m(process_value, val)))\n\u001b[1;32m     36\u001b[0m \u001b[38;5;28;01mif\u001b[39;00m \u001b[38;5;28misinstance\u001b[39m(val, \u001b[38;5;28mlist\u001b[39m):\n\u001b[0;32m---> 37\u001b[0m     \u001b[38;5;28;01mreturn\u001b[39;00m [process_value(i) \u001b[38;5;28;01mfor\u001b[39;00m i \u001b[38;5;129;01min\u001b[39;00m val]\n\u001b[1;32m     38\u001b[0m original_module \u001b[38;5;241m=\u001b[39m \u001b[38;5;28mgetattr\u001b[39m(\u001b[38;5;28mtype\u001b[39m(val), \u001b[38;5;124m\"\u001b[39m\u001b[38;5;124m__module__\u001b[39m\u001b[38;5;124m\"\u001b[39m, \u001b[38;5;124m\"\u001b[39m\u001b[38;5;124m\"\u001b[39m)\n\u001b[1;32m     39\u001b[0m \u001b[38;5;28;01mif\u001b[39;00m (\n\u001b[1;32m     40\u001b[0m     \u001b[38;5;124m\"\u001b[39m\u001b[38;5;124mnumpy\u001b[39m\u001b[38;5;124m\"\u001b[39m \u001b[38;5;129;01min\u001b[39;00m original_module\n\u001b[1;32m     41\u001b[0m     \u001b[38;5;129;01mor\u001b[39;00m \u001b[38;5;124m\"\u001b[39m\u001b[38;5;124mxarray\u001b[39m\u001b[38;5;124m\"\u001b[39m \u001b[38;5;129;01min\u001b[39;00m original_module\n\u001b[1;32m     42\u001b[0m     \u001b[38;5;129;01mor\u001b[39;00m \u001b[38;5;124m\"\u001b[39m\u001b[38;5;124mpandas\u001b[39m\u001b[38;5;124m\"\u001b[39m \u001b[38;5;129;01min\u001b[39;00m original_module\n\u001b[1;32m     43\u001b[0m ):\n",
      "File \u001b[0;32m/opt/anaconda3/lib/python3.12/site-packages/stanio/json.py:37\u001b[0m, in \u001b[0;36mprocess_value\u001b[0;34m(val)\u001b[0m\n\u001b[1;32m     35\u001b[0m     \u001b[38;5;28;01mreturn\u001b[39;00m \u001b[38;5;28mdict\u001b[39m(\u001b[38;5;28mzip\u001b[39m(\u001b[38;5;28mrange\u001b[39m(\u001b[38;5;241m1\u001b[39m, \u001b[38;5;28mlen\u001b[39m(val) \u001b[38;5;241m+\u001b[39m \u001b[38;5;241m1\u001b[39m), \u001b[38;5;28mmap\u001b[39m(process_value, val)))\n\u001b[1;32m     36\u001b[0m \u001b[38;5;28;01mif\u001b[39;00m \u001b[38;5;28misinstance\u001b[39m(val, \u001b[38;5;28mlist\u001b[39m):\n\u001b[0;32m---> 37\u001b[0m     \u001b[38;5;28;01mreturn\u001b[39;00m [process_value(i) \u001b[38;5;28;01mfor\u001b[39;00m i \u001b[38;5;129;01min\u001b[39;00m val]\n\u001b[1;32m     38\u001b[0m original_module \u001b[38;5;241m=\u001b[39m \u001b[38;5;28mgetattr\u001b[39m(\u001b[38;5;28mtype\u001b[39m(val), \u001b[38;5;124m\"\u001b[39m\u001b[38;5;124m__module__\u001b[39m\u001b[38;5;124m\"\u001b[39m, \u001b[38;5;124m\"\u001b[39m\u001b[38;5;124m\"\u001b[39m)\n\u001b[1;32m     39\u001b[0m \u001b[38;5;28;01mif\u001b[39;00m (\n\u001b[1;32m     40\u001b[0m     \u001b[38;5;124m\"\u001b[39m\u001b[38;5;124mnumpy\u001b[39m\u001b[38;5;124m\"\u001b[39m \u001b[38;5;129;01min\u001b[39;00m original_module\n\u001b[1;32m     41\u001b[0m     \u001b[38;5;129;01mor\u001b[39;00m \u001b[38;5;124m\"\u001b[39m\u001b[38;5;124mxarray\u001b[39m\u001b[38;5;124m\"\u001b[39m \u001b[38;5;129;01min\u001b[39;00m original_module\n\u001b[1;32m     42\u001b[0m     \u001b[38;5;129;01mor\u001b[39;00m \u001b[38;5;124m\"\u001b[39m\u001b[38;5;124mpandas\u001b[39m\u001b[38;5;124m\"\u001b[39m \u001b[38;5;129;01min\u001b[39;00m original_module\n\u001b[1;32m     43\u001b[0m ):\n",
      "File \u001b[0;32m/opt/anaconda3/lib/python3.12/site-packages/stanio/json.py:38\u001b[0m, in \u001b[0;36mprocess_value\u001b[0;34m(val)\u001b[0m\n\u001b[1;32m     36\u001b[0m \u001b[38;5;28;01mif\u001b[39;00m \u001b[38;5;28misinstance\u001b[39m(val, \u001b[38;5;28mlist\u001b[39m):\n\u001b[1;32m     37\u001b[0m     \u001b[38;5;28;01mreturn\u001b[39;00m [process_value(i) \u001b[38;5;28;01mfor\u001b[39;00m i \u001b[38;5;129;01min\u001b[39;00m val]\n\u001b[0;32m---> 38\u001b[0m original_module \u001b[38;5;241m=\u001b[39m \u001b[38;5;28mgetattr\u001b[39m(\u001b[38;5;28mtype\u001b[39m(val), \u001b[38;5;124m\"\u001b[39m\u001b[38;5;124m__module__\u001b[39m\u001b[38;5;124m\"\u001b[39m, \u001b[38;5;124m\"\u001b[39m\u001b[38;5;124m\"\u001b[39m)\n\u001b[1;32m     39\u001b[0m \u001b[38;5;28;01mif\u001b[39;00m (\n\u001b[1;32m     40\u001b[0m     \u001b[38;5;124m\"\u001b[39m\u001b[38;5;124mnumpy\u001b[39m\u001b[38;5;124m\"\u001b[39m \u001b[38;5;129;01min\u001b[39;00m original_module\n\u001b[1;32m     41\u001b[0m     \u001b[38;5;129;01mor\u001b[39;00m \u001b[38;5;124m\"\u001b[39m\u001b[38;5;124mxarray\u001b[39m\u001b[38;5;124m\"\u001b[39m \u001b[38;5;129;01min\u001b[39;00m original_module\n\u001b[1;32m     42\u001b[0m     \u001b[38;5;129;01mor\u001b[39;00m \u001b[38;5;124m\"\u001b[39m\u001b[38;5;124mpandas\u001b[39m\u001b[38;5;124m\"\u001b[39m \u001b[38;5;129;01min\u001b[39;00m original_module\n\u001b[1;32m     43\u001b[0m ):\n\u001b[1;32m     44\u001b[0m     numpy_val \u001b[38;5;241m=\u001b[39m np\u001b[38;5;241m.\u001b[39masanyarray(val)\n",
      "\u001b[0;31mKeyboardInterrupt\u001b[0m: "
     ]
    }
   ],
   "source": [
    "#| code-fold: true\n",
    "#| code-summary: \"Show the code\"\n",
    "from itertools import product\n",
    "# Store results in a dictionary\n",
    "results = {}\n",
    "print(f\"trying all {len(param_combinations)} hyperparameter combinations\")\n",
    "# Generate all combinations of hyperparameters\n",
    "param_combinations = list(product(*param_grid.values()))\n",
    "\n",
    "for params in param_combinations:\n",
    "    # Create a Prophet instance with current hyperparameter values\n",
    "    prophet = Prophet(**dict(zip(param_grid.keys(), params)))\n",
    "\n",
    "    # Fit the model\n",
    "    prophet.fit(prophet_df)\n",
    "\n",
    "    # Perform cross-validation\n",
    "    df_cv = cross_validation(model=prophet, initial='730 days', period='365 days', horizon='365 days')\n",
    "\n",
    "\n",
    "    # Calculate performance metrics\n",
    "    df_metrics = performance_metrics(df_cv, rolling_window=0)\n",
    "\n",
    "    # Store metrics in the results dictionary\n",
    "    results[params] = df_metrics['mape'].mean()\n"
   ]
  },
  {
   "cell_type": "markdown",
   "metadata": {},
   "source": [
    ":::{.callout .note}\n",
    "\n",
    "**NOTE**: The code took a very long time to complete. It tried 128 different combinations of hyperparameters and the best model was the one with the lowest MAPE value.\n",
    "::: "
   ]
  },
  {
   "cell_type": "markdown",
   "metadata": {},
   "source": [
    "<p>\n",
    "The results are in! The best model had the following hyperparameters:\n",
    "</p>"
   ]
  },
  {
   "cell_type": "code",
   "execution_count": null,
   "metadata": {},
   "outputs": [],
   "source": [
    "# Find the hyperparameters with the lowest RMSE\n",
    "best_hyperparams = min(results, key=results.get)\n",
    "print(f\"Best Hyperparameters: {dict(zip(param_grid.keys(), best_hyperparams))}\")"
   ]
  },
  {
   "cell_type": "markdown",
   "metadata": {},
   "source": [
    "<div class=\"cell-output cell-output-stdout\">\n",
    "<pre><code>Best Hyperparameters: {'seasonality_mode': 'additive', 'seasonality_prior_scale': 1, 'holidays_prior_scale': 5, 'changepoint_prior_scale': 0.005}</code></pre>\n",
    "</div>"
   ]
  },
  {
   "cell_type": "markdown",
   "metadata": {},
   "source": [
    "<p>Now let’s rebuild the model with the best hyperparameters and evaluate the model’s performance.</p>"
   ]
  },
  {
   "cell_type": "code",
   "execution_count": null,
   "metadata": {},
   "outputs": [],
   "source": [
    "tuned_prophet = Prophet(holidays=holidays_df, \n",
    "                        seasonality_mode='additive', \n",
    "                        seasonality_prior_scale=1, \n",
    "                        holidays_prior_scale=5, \n",
    "                        changepoint_prior_scale=0.005)\n",
    "# fit the model\n",
    "tuned_prophet.fit(prophet_df)\n",
    "# Create a DataFrame with future dates for forecasting\n",
    "future = tuned_prophet.make_future_dataframe(periods=365, freq='D')\n",
    "\n",
    "# Generate forecasts\n",
    "new_forecast = tuned_prophet.predict(future)"
   ]
  },
  {
   "cell_type": "markdown",
   "metadata": {},
   "source": [
    "<h5>Cross Validation of the Best Model</h5>"
   ]
  },
  {
   "cell_type": "code",
   "execution_count": null,
   "metadata": {},
   "outputs": [],
   "source": [
    "from prophet.diagnostics import cross_validation, performance_metrics\n",
    "# Perform cross-validation\n",
    "tuned_df_cv = cross_validation(model=tuned_prophet, initial='730 days', period='365 days', horizon='365 days')"
   ]
  },
  {
   "cell_type": "markdown",
   "metadata": {},
   "source": [
    "<p>let’s compare the accuracy of the model before and after hyperparameter tuning.</p>"
   ]
  },
  {
   "cell_type": "code",
   "execution_count": null,
   "metadata": {},
   "outputs": [],
   "source": [
    "#| code-fold: true\n",
    "#| code-summary: \"Show the code\"\n",
    "fig, axs = plt.subplots(1, 2, figsize=(15, 9))\n",
    "\n",
    "# Plot the first cross-validation metric\n",
    "fig1 = plot_cross_validation_metric(df_cv, metric='mape', ax=axs[0])\n",
    "fig1.get_axes()[0].get_lines()[0].set_markerfacecolor('#ADD8E7')  # Change color of the dots\n",
    "fig1.get_axes()[0].get_lines()[0].set_markeredgecolor('#ADD8E7')  # Change color of the dot edges\n",
    "# add title\n",
    "axs[0].set_title('Initial Cross-Validation score MAPE')\n",
    "\n",
    "# Plot the second cross-validation metric\n",
    "fig2 = plot_cross_validation_metric(tuned_df_cv, metric='mape', ax=axs[1])\n",
    "fig2.get_axes()[0].get_lines()[0].set_markerfacecolor('#ADD8E7')  # Change color of the dots\n",
    "fig2.get_axes()[0].get_lines()[0].set_markeredgecolor('#ADD8E9')  # Change color of the dot edges\n",
    "# add title\n",
    "axs[1].set_title('Tuned Cross-Validation score MAPE')\n",
    "\n",
    "plt.tight_layout()\n",
    "plt.show()"
   ]
  },
  {
   "cell_type": "markdown",
   "metadata": {},
   "source": [
    "<p>Not Exactly the outcome I was expecting but the tuned model’s performance remains consistent with the previous model. This may suggest that the model is not sensitive to the hyperparameters. Nonetheless, the model is still useful for forecasting demand for the top-selling product.</p>"
   ]
  },
  {
   "cell_type": "markdown",
   "metadata": {},
   "source": [
    "<h4 class=\"anchored\">\n",
    "Forecast Results\n",
    "</h4>\n",
    "<p>As indicated earlier, the <code>forecast</code> variable contains the forecasted values of our <code>Sales</code> time series. Based on this forecast we will calculate the optimal inventory policy for this specific product.</p>\n",
    "<p>\n",
    "The <code>forecast</code> variable is a dataframe that contains the following columns:\n",
    "</p>"
   ]
  },
  {
   "cell_type": "code",
   "execution_count": null,
   "metadata": {},
   "outputs": [],
   "source": [
    "forecast.head(2)"
   ]
  },
  {
   "cell_type": "markdown",
   "metadata": {},
   "source": [
    "<p>Before calculating the optimal inventory policy, let’s visualize the forecasted sales data. To have a feel for the seasonalities and cycles in the forecasted sales data</p>"
   ]
  },
  {
   "cell_type": "markdown",
   "metadata": {},
   "source": [
    "<h4 class=\"anchored\">\n",
    "Visualizing Forecasted Sales\n",
    "</h4>"
   ]
  },
  {
   "cell_type": "code",
   "execution_count": null,
   "metadata": {},
   "outputs": [],
   "source": [
    "import warnings\n",
    "\n",
    "# Ignore the specific FutureWarning\n",
    "warnings.filterwarnings(\"ignore\", category=FutureWarning)\n",
    "\n",
    "# Plot the forecast\n",
    "tuned_prophet.plot_components(new_forecast)"
   ]
  },
  {
   "cell_type": "markdown",
   "metadata": {},
   "source": [
    "<h1 class=\"anchored\">\n",
    " Business Question #1 \n",
    "</h1>\n"
   ]
  },
  {
   "cell_type": "markdown",
   "metadata": {},
   "source": [
    "\n",
    "<div style=\"text-align:center;\">\n",
    "<img src=\"https://media.giphy.com/media/v1.Y2lkPTc5MGI3NjExeWJlamcxOTJnM3ZyeDllcXE4MW1lOHpmMndrMnJpMms0YnZ4aWNwcyZlcD12MV9naWZzX3NlYXJjaCZjdD1n/xT5LMWNOjGqJzUfyve/giphy.gif\" alt=\"gif\" style=\"width: 70%; height: 70%; display: block; margin: auto; right:20px;\">\n",
    "</div>\n"
   ]
  },
  {
   "cell_type": "markdown",
   "metadata": {},
   "source": [
    "\n",
    "><em><h5>What is the demand forecast for the top selling product in the next 24 months?</h5></em>\n"
   ]
  },
  {
   "cell_type": "markdown",
   "metadata": {},
   "source": [
    "\n",
    "<p>\n",
    "<p>The sales trend between <code>2015</code> and <code>2017</code> marks a cycle where sales for the product remained relatively stable during the second and third quarters of each year and then dipped slightly in October with a sharp increase between November and December.\n",
    "</p>\n",
    "<p>The forecasted sales for the next 24 months, on the other hand, indicate a very stable demand pattern.\n",
    "<p>\n",
    "The zero variance observed in the product price may account for the relatively stable sales pattern forecasted for `2018` and `2019`. It might also be worth investigating the factors that may account for the cyclical dips between 2015 and 2017\n",
    "</p>\n",
    "<p>\n",
    "We can also observe the impact of the Puerto Rican holidays on the forecasted sales.\n",
    "</p>\n",
    "<h1 class=\"anchored\">\n",
    "Finding Optimal Inventory Policy Based on Forecasted Demand\n",
    "</h1>\n",
    "<p>\n",
    "Now that we have forecasted the demand for the top-selling product, we can use the forecasted demand to calculate the optimal inventory policy for the product.</p>\n",
    "<p> \n",
    "Finding the optimal inventory policy will help us determine the <a href= \"https://cashflowinventory.com/blog/reorder-point\">Reorder Point</a>, <a href=\"https://cashflowinventory.com/blog/reorder-point\">safety stock</a>, and <a href=\"https://cashflowinventory.com/blog/reorder-point\" >Economic Order Quantity</a>(EOQ) for the product. These markers will help us ensure that we have the right amount of inventory on hand to meet customer demand while minimizing inventory costs.\n",
    "</p>"
   ]
  },
  {
   "cell_type": "markdown",
   "metadata": {},
   "source": [
    "<h2>Re Order Point</h2>\n",
    "The reorder point is the inventory level at which we should reorder more stock. \n",
    "`ROP`  is calculated as the product of the average sales per day and the lead time (also referred to as `Lead Time Demand`) plus the `Safety stock`."
   ]
  },
  {
   "cell_type": "markdown",
   "metadata": {},
   "source": [
    "$$ Reorder\\ Point = \\text{Lead\\ Time\\ Demand} + \\text{Safety\\ Stock} $$\n"
   ]
  },
  {
   "cell_type": "markdown",
   "metadata": {},
   "source": [
    "let's Find the Lead Time Demand\n",
    "\n",
    "$$ \\text{Lead Time Demand} = \\text{Average Sales Per Day} \\times \\text{Lead Time} $$"
   ]
  },
  {
   "cell_type": "markdown",
   "metadata": {},
   "source": [
    ":::{.callout .note}\n",
    "\n",
    "<p> <strong>NOTE:</strong> It is important to state the difference between the downstream and upstream lead time.</p>\n",
    "<p>The `Lead Time` with regards to the reordering point is the time it takes for a product to be delivered by upstream supply chain manufacturers to the store's warehouse. It is the time between the placement of an order by the store and the receipt of the product.</p>\n",
    "<p> The current dataset only provides the `Days for shipment (scheduled)` and the `Days for shipping (real)` which only helps us determine downstream lead times. The downstream lead time is the time it takes for a product to be delivered to the customer after it has been ordered. This is not the lead time we need to calculate the reorder point.</p>\n",
    "\n",
    ":::\n",
    "\n"
   ]
  },
  {
   "cell_type": "markdown",
   "metadata": {},
   "source": [
    "<p>For the purposes of our analysis we will assume an average upstream `Lead time` of 7 days </p>"
   ]
  },
  {
   "cell_type": "code",
   "execution_count": null,
   "metadata": {},
   "outputs": [],
   "source": [
    "\n",
    "# Extract average forecasted sales per day\n",
    "average_forecasted_sales = new_forecast['yhat'].mean()\n",
    "\n",
    "\n",
    "# Extract the average lead time\n",
    "average_lead_time = 7  # 7 days\n",
    "print(f\"Average Lead Time: {average_lead_time}\")\n",
    "\n",
    "lead_time_demand = average_forecasted_sales * average_lead_time\n",
    "print(f\"Lead Time Demand: {lead_time_demand}\")"
   ]
  },
  {
   "cell_type": "markdown",
   "metadata": {},
   "source": [
    "<p>One final piece to the Reorder Point puzzle is the ` Safety Stock`. The safety stock is the extra stock that is kept on hand to mitigate the risk of stockouts due to uncertainties in demand and lead time.</p>"
   ]
  },
  {
   "cell_type": "markdown",
   "metadata": {},
   "source": [
    "$$ \\text{Safety Stock} = (\\text{Maximum Daily Sales} \\times \\text{Maximum Lead Time}) - \\text{Lead Time Demand}$$\n"
   ]
  },
  {
   "cell_type": "markdown",
   "metadata": {},
   "source": [
    "<p>Let's also assume that there have been delays from the manufacturer in the past and the maximum lead time is 10 days. That is Three days later than the average order fulfillment timeline</p>"
   ]
  },
  {
   "cell_type": "code",
   "execution_count": null,
   "metadata": {},
   "outputs": [],
   "source": [
    "# find maximum daily forecasted sales\n",
    "max_daily_forecasted_sales = new_forecast['yhat'].max()\n",
    "print(f\"Maximum Daily Forecasted Sales: {max_daily_forecasted_sales}\")\n",
    "\n",
    "# find maximum lead time\n",
    "max_lead_time = average_lead_time + 3  # 3 days delays in delivery than the average\n",
    "print(f\"Maximum Lead Time: {max_lead_time}\")\n",
    "\n",
    "# calculate safety stock\n",
    "safety_stock = (max_daily_forecasted_sales * max_lead_time) - lead_time_demand\n",
    "print(f\"Safety Stock: {safety_stock}\")"
   ]
  },
  {
   "cell_type": "markdown",
   "metadata": {},
   "source": [
    "<p>Finally, we can calculate the reorder point for the top-selling product.</p>\n",
    "\n",
    "<h3>Putting It All Together</h3>"
   ]
  },
  {
   "cell_type": "code",
   "execution_count": null,
   "metadata": {},
   "outputs": [],
   "source": [
    "# calculate reorder point\n",
    "reorder_point = lead_time_demand + safety_stock\n",
    "print(f\"The Optimal Reorder Point for the Top-selling Product is: {reorder_point}\")"
   ]
  },
  {
   "cell_type": "markdown",
   "metadata": {},
   "source": [
    "<p> As indicated by the result, the reorder point for the top-selling product is `3753` units, which means that we should reorder more stock when the inventory level reaches `3753` units. This will help us ensure that we have enough stock on hand to meet customer demand while minimizing inventory costs.</p>"
   ]
  },
  {
   "cell_type": "markdown",
   "metadata": {},
   "source": [
    "<h3>Economic Order Quantity (EOQ)</h3>\n",
    "<p> Alternatively, we can use the <a href=\"https://dclcorp.com/blog/inventory/economic-order-quantity-eoq/\">Economic Order Quantity (EOQ) model</a> to calculate the optimal order quantity for the top-selling product. The EOQ model helps us determine the optimal order quantity that minimizes the total inventory costs.</p>\n",
    "\n",
    "<p>Unlike the Reorder Point which is concerned with determining the level of inventory at which a new order should be placed to avoid stockouts, EOQ takes into account the costs of ordering (e.g., setup costs) and the costs, of holding inventory (e.g., storage costs, opportunity costs).</p>\n",
    "\n"
   ]
  },
  {
   "cell_type": "markdown",
   "metadata": {},
   "source": [
    "<p>The Economic Order Quantity (EOQ) formula is given by:</p>\n",
    "\n",
    "$$ EOQ = \\sqrt{\\frac{2DS}{H}} $$\n",
    "\n",
    "<p>Where:</p>\n",
    "\n",
    "- \\( D \\) is the demand rate (number of units demanded),\n",
    "- \\( S \\) is the ordering cost per order,\n",
    "- \\( H \\) is the holding cost per unit per year.\n",
    "\n",
    "<p>This formula helps in determining the optimal order quantity that minimizes the total inventory costs.</p>\n"
   ]
  },
  {
   "cell_type": "markdown",
   "metadata": {},
   "source": [
    ":::{.callout .note}\n",
    "**NOTE**: We can figure out the demand rate \\( D \\) based on the existing data. However, the ordering cost \\( S \\)  and holding cost \\( H \\)  are not provided in the dataset. For our analysis, We will assume that the ordering and holding cost is `10%` and `30%` of the product price respectively.\n",
    "\n",
    ":::\n"
   ]
  },
  {
   "cell_type": "markdown",
   "metadata": {},
   "source": [
    "<h4>Estimating Holding Cost and Ordering Cost</h4>\n",
    "<h5>Holding Cost</h5>\n",
    "<p>Holding costs typically include expenses related to storing inventory, such as warehousing, insurance, and security. It also includes the opportunity cost of tying up capital in inventory.</p> \n",
    "\n",
    "<h5>Ordering Cost</h5>\n",
    "<p>Ordering costs are the expenses incurred in the process of ordering and receiving inventory. This includes the cost of preparing and processing purchase orders, receiving and inspecting the goods, and storing and managing the inventory.</p>"
   ]
  },
  {
   "cell_type": "code",
   "execution_count": null,
   "metadata": {},
   "outputs": [],
   "source": [
    "# extract the product price of top selling product(product card id:365)\n",
    "product_price = df[df['Product Card Id'] == 365]['Product Price'].iloc[0]\n",
    "print(f\"The Product Price is: {product_price}\")\n",
    "# calculate holding cost\n",
    "H = 0.10 * product_price\n",
    "# calculate ordering cost\n",
    "S = 0.30 * product_price\n",
    "\n",
    "# calculate forecasted demand rate\n",
    "D = new_forecast['yhat'].mean()\n",
    "\n",
    "print(f\"The Demand Rate is: {D}\")\n",
    "print(f\"The Holding Cost is: {H}\")\n",
    "print(f\"The Ordering Cost is: {S}\")"
   ]
  },
  {
   "cell_type": "markdown",
   "metadata": {},
   "source": [
    "<h4>Putting It All Together</h4>"
   ]
  },
  {
   "cell_type": "code",
   "execution_count": null,
   "metadata": {},
   "outputs": [],
   "source": [
    "EOQ = math.sqrt((2 * D * S) / H)\n",
    "print(f\"The Economic Order Quantity is: {EOQ}\")"
   ]
  },
  {
   "cell_type": "markdown",
   "metadata": {},
   "source": [
    "<p>Based on the EOQ model, the optimal order quantity for the top-selling product is `35` units. This means that we should order `35` units of the product at a time to minimize the total inventory costs. This will help us ensure that we have the right amount of inventory on hand to meet customer demand while minimizing inventory costs.</p>"
   ]
  },
  {
   "cell_type": "markdown",
   "metadata": {},
   "source": [
    "<h1 class=\"anchored\">\n",
    " Business Question #2 \n",
    "</h1>"
   ]
  },
  {
   "cell_type": "markdown",
   "metadata": {},
   "source": [
    "\n",
    "\n",
    "<div style=\"text-align:center;\">\n",
    "<img src=\"https://media.giphy.com/media/l4FBeaUCLhxrXPlpC/giphy.gif\" alt=\"gif\" style=\"width: 90%; height: 90%; display: block; margin: auto;\">\n",
    "</div>"
   ]
  },
  {
   "cell_type": "markdown",
   "metadata": {},
   "source": [
    "See Angry Jack(from spongebob) being angry about his Massive inventory buildup. soon we will see how he could use our new inventory optimisations."
   ]
  },
  {
   "cell_type": "markdown",
   "metadata": {},
   "source": [
    "><em><h5>What is the optimal inventory level for the top selling product?</h5></em>"
   ]
  },
  {
   "cell_type": "markdown",
   "metadata": {},
   "source": [
    "<div class=\"card\">\n",
    "<p>The optimal inventory policy for the top-selling product is as follows:</p>\n",
    "\n",
    "- **Reorder Point**: 3753 units\n",
    "- **Economic Order Quantity (EOQ)**: 35 units\n",
    "- **Safety Stock**: 2284 units\n",
    "\n",
    "<p>Here's what Angry Jack should do: \n",
    "</p>\n",
    "<p>When the stock level of the top-selling product hits 3753 units, He needs to place an order of 35 units with his suppliers.</p>\n",
    "<p>Inventory management decisions based on these markers will help the company ensure that there is the right amount of inventory of the top-selling product on hand to meet customer demand while minimizing inventory costs.</p>\n",
    "</div>"
   ]
  },
  {
   "cell_type": "markdown",
   "metadata": {},
   "source": [
    "<h1>Bonus: Investigating the Top Predictors of Demand Outcomes</h1>\n",
    "<p>Now that we have forecasted the demand for the top-selling product and calculated the optimal inventory policy, we can investigate the top predictors of demand outcomes. This will help us understand the factors that contribute to demand patterns and identify opportunities to improve sales outcomes.</p>\n",
    "\n",
    "<p>The top-selling product price has remained fixed throughout the dataset. We can safely rule out the product price as a predictor of demand outcome for the period under review.</p>"
   ]
  },
  {
   "cell_type": "markdown",
   "metadata": {},
   "source": [
    "<h3>Wait....I have a Hypothesis</h3>\n",
    "<p>I have a hunch that `Product Lead Time`, `Customer Segment` and some `Geographic factors` will be top predictors of demand outcomes.</p>\n",
    "<p>I will test this hypothesis by conducting a feature importance analysis using the <a href=\"https://www.analyticsvidhya.com/blog/2021/06/understanding-random-forest/\">Random Forest</a> algorithm.</p>"
   ]
  },
  {
   "cell_type": "markdown",
   "metadata": {},
   "source": [
    "<h5><em>Let's Investigate.....</em></h5>"
   ]
  },
  {
   "cell_type": "markdown",
   "metadata": {},
   "source": [
    "<div style=\"text-align:center;\">\n",
    "<img src=\"https://media.giphy.com/media/v1.Y2lkPTc5MGI3NjExaTUzaDNxOW54cDU5MXl0emd3dzI4dnRqNjJpMWxpYW1sOGVrb2xjOSZlcD12MV9pbnRlcm5hbF9naWZfYnlfaWQmY3Q9Zw/dgEtXsuqq2PL2/giphy.gif\" alt=\"gif\" style=\"width: 60%; height: 90%; display: block; margin: auto;\">\n",
    "</div>"
   ]
  },
  {
   "cell_type": "markdown",
   "metadata": {},
   "source": [
    "<h4>Correlation Analysis</h4>\n",
    "<p>Before we proceed with the feature importance analysis, let’s conduct a correlation analysis to identify the top predictors of demand outcomes.</p>\n",
    "\n",
    "<p>\n",
    "we will create the <a href=\"https://builtin.com/data-science/correlation-matrix#:~:text=A%20correlation%20matrix%20is%20a,1%20a%20not%20strong%20relationship.\">correlation matrix</a> using the `corr()` method and then use the `heatmap()` function from the `seaborn` library to visualize the correlation matrix.</p>\n",
    "<p>We will use the `label_encode_df` data frame created during the data preprocessing stage.</p>\n",
    "\n"
   ]
  },
  {
   "cell_type": "code",
   "execution_count": null,
   "metadata": {},
   "outputs": [],
   "source": [
    "# correlation analysis\n",
    "correlation_matrix = label_encode_df.corr()\n",
    "\n",
    "# plot the correlation matrix\n",
    "plt.figure(figsize=(12, 10))\n",
    "sns.heatmap(correlation_matrix, annot=True, cmap='coolwarm', cbar_kws={'label': 'Correlation Coefficient'})\n",
    "plt.title('Correlation Matrix of Selected Variables')\n",
    "plt.show()"
   ]
  },
  {
   "cell_type": "markdown",
   "metadata": {},
   "source": [
    "<h5>Observation</h5>\n",
    "<p>The Heatmap shows there are no strong correlations between the features and the target variable. This suggests that the demand for the top-selling product is not strongly influenced by any single feature.</p>\n",
    "\n",
    "<h4>Feature Importance Analysis Using Random Forest Regressor Model</h4>\n",
    "<p>The correlation matrix could not identify the top predictors of demand outcomes. We will use the Random Forest algorithm to identify the top predictors of demand outcomes. The Random Forest algorithm is an ensemble learning method that uses multiple decision trees to make predictions. It is a powerful algorithm for feature importance analysis.</p>\n",
    "<p> We will train a Random Forest Regressor model on the `onehot_encode_df` data frame and then use the `feature_importances_` attribute of the model to identify the top predictors of demand outcomes.</p>"
   ]
  },
  {
   "cell_type": "markdown",
   "metadata": {},
   "source": [
    "<h5>Split the Data for Model Training</h5>"
   ]
  },
  {
   "cell_type": "code",
   "execution_count": null,
   "metadata": {},
   "outputs": [],
   "source": [
    "#| code-fold: true\n",
    "#| code-summary: \"Show the code\"\n",
    "\n",
    "from sklearn.model_selection import train_test_split\n",
    "\n",
    "# prepare features excluding the sale\n",
    "X_features = onehot_encode_df.drop(columns=['Sales'])\n",
    "#  Drop Shipping year\n",
    "X_features = X_features.drop(columns=['Shipping Year'])\n",
    "# prepare target variable\n",
    "y_target = onehot_encode_df['Sales']\n",
    "\n",
    "# split the data into training and testing sets\n",
    "X_train, X_test, y_train, y_test = train_test_split(X_features, y_target, test_size=0.2, random_state=42)\n"
   ]
  },
  {
   "cell_type": "markdown",
   "metadata": {},
   "source": [
    "<h5>Train the Random Forest Regressor Model</h5>"
   ]
  },
  {
   "cell_type": "code",
   "execution_count": null,
   "metadata": {},
   "outputs": [],
   "source": [
    "#| code-fold: true\n",
    "#| code-summary: \"Show the code\"\n",
    "\n",
    "from sklearn.ensemble import RandomForestRegressor\n",
    "\n",
    "# create a random forest regressor model\n",
    "rf_model = RandomForestRegressor(n_estimators=150, max_depth=10,  min_samples_split=2)\n",
    "\n",
    "# fit rf odel to the training data\n",
    "rf_model.fit(X_train, y_train)"
   ]
  },
  {
   "cell_type": "markdown",
   "metadata": {},
   "source": [
    "<h3>Feature Importance Analysis</h3>"
   ]
  },
  {
   "cell_type": "code",
   "execution_count": null,
   "metadata": {},
   "outputs": [],
   "source": [
    "#| code-fold: true\n",
    "#| code-summary: \"Show the code\"\n",
    "import matplotlib.cm as cm\n",
    "# retrieve the feature importances\n",
    "feature_importances = rf_model.feature_importances_\n",
    "\n",
    "# get the top 5 feature importances\n",
    "top_5_feature_importances = feature_importances.argsort()[-5:]\n",
    "\n",
    "# visualize the top 5 features of importance\n",
    "plt.figure(figsize=(10, 6))\n",
    "colors = cm.viridis(np.linspace(0, 1, \n",
    "                                len(top_5_feature_importances)))\n",
    "plt.barh(X_train.columns[top_5_feature_importances], \n",
    "         feature_importances[top_5_feature_importances],\n",
    "          color=colors)\n",
    "plt.xlabel('Feature Importance')\n",
    "\n",
    "plt.title('Top 5 Feature Importances')\n",
    "plt.show()\n"
   ]
  },
  {
   "cell_type": "markdown",
   "metadata": {},
   "source": [
    "<h4>Discussion of Results</h4>"
   ]
  },
  {
   "cell_type": "markdown",
   "metadata": {},
   "source": [
    "<p>The feature importance analysis confirms the majority of my hypothesis</p>\n",
    "<p>We can see that Product `Lead Time`, and some `Geographic factors` were among the top predictors of demand outcomes</p>\n",
    "<p>`Customer Segment` however was not among the top predictors of demand outcomes. This brings us to the end of our analysis</p>"
   ]
  },
  {
   "cell_type": "markdown",
   "metadata": {},
   "source": [
    "\n",
    "\n",
    "# **Congratulations on making it This Far!**\n",
    "\n"
   ]
  },
  {
   "cell_type": "markdown",
   "metadata": {},
   "source": [
    "<div style=\"text-align:center;\">\n",
    "<img src=\"https://media.giphy.com/media/v1.Y2lkPTc5MGI3NjExb3V2N25lNWFrNGtwNGo5aTMxaWM2Yno0dXRmOHhtM2FvbnE0eW41eiZlcD12MV9pbnRlcm5hbF9naWZfYnlfaWQmY3Q9cw/XEIa9GtOXdMN4KOaPn/giphy.gif\" alt=\"gif\" style=\"width: 100%; height: 1o0%; display: block; margin: auto;\">\n",
    "</div>"
   ]
  },
  {
   "cell_type": "markdown",
   "metadata": {},
   "source": [
    "<h1>Key Takeaways</h1>\n",
    "<p>If you made it this far, I hope you have enjoyed the journey. Here are the key takeaways from this project:</p>\n",
    "\n",
    "- [x] We explored how to build a demand forecasting model with Python.\n",
    "- [x] We used the model for inventory optimization, covering concepts like reorder points, safety stock, and economic order quantity (EOQ).\n",
    "- [x] We discovered trends, seasonalities and holiday effects on the top-selling product based on the dataset provided.\n",
    "- [x] We found the optimal inventory policy for the top-selling product.\n",
    "\n",
    "<h4>How does this method offer enhanced scalability compared to conventional demand forecasting techniques?</h4>\n",
    "\n",
    "<ol><li>The existing data processing steps can easily be adapted to accommodate larger product categories.\n",
    "<li>Improved speed and accuracy.</li>\n",
    "<li>Minimized guesswork and enhanced reproducibility for validating forecasts.</li>\n",
    "</ol>\n",
    "<p>Feel free to share your thoughts and feedback on my approach. I am open to learning and improving my skills.</p>"
   ]
  },
  {
   "cell_type": "markdown",
   "metadata": {},
   "source": [
    "\n",
    "<h1>Up Next:</h1>\n"
   ]
  },
  {
   "cell_type": "markdown",
   "metadata": {},
   "source": [
    "<div style=\"display:flex; gap:50px;\">\n",
    "<a href=\"https://simontagbor.github.io/BritishAirways-data-science/\" style=\"text-decoration: none; color: black;\">\n",
    "<div style=\"width: 300px; border-radius: 15px; overflow: hidden; box-shadow: 0 4px 8px rgba(0, 0, 0, 0.1); transition: transform 0.3s;\">\n",
    "  <img src=\"https://images.unsplash.com/photo-1615558568469-de10704d9102?q=80&w=1374&auto=format&fit=crop&ixlib=rb-4.0.3&ixid=M3wxMjA3fDB8MHxwaG90by1wYWdlfHx8fGVufDB8fHx8fA%3D%3D\" alt=\"Blog Post Image\" style=\"width: 100%; height: auto; border-radius: 15px 15px 0 0;\">\n",
    "  <div style=\"padding: 15px;\">\n",
    "  <div style=\"font-size: 1.2em; font-weight: bold; margin-bottom: 10px;\">Understanding How Customers Feel About British Airways Flight Experience.</div>\n",
    "  <div style=\"font-size: 0.9em; color: #555;\">A Topic Modelling and Sentiment Analysis Approach</div>\n",
    "  </div>\n",
    "</div>\n",
    "</a>\n",
    "<a href=\"#\" style=\"text-decoration: none; color: black;\">\n",
    "<div style=\"width: 300px; border-radius: 15px; overflow: hidden; box-shadow: 0 4px 8px rgba(0, 0, 0, 0.1); transition: transform 0.3s;\">\n",
    "  <img src=\"https://images.unsplash.com/photo-1614028674026-a65e31bfd27c?q=80&w=1470&auto=format&fit=crop&ixlib=rb-4.0.3&ixid=M3wxMjA3fDB8MHxwaG90by1wYWdlfHx8fGVufDB8fHx8fA%3D%3D\" alt=\"Blog Post Image\" style=\"width: 100%; height: auto; border-radius: 15px 15px 0 0;\">\n",
    "  <div style=\"padding: 15px;\">\n",
    "  <div style=\"font-size: 1.2em; font-weight: bold; margin-bottom: 10px;\">Supply Chain Demand Forecasting Using Prohet</div>\n",
    "  <div style=\"font-size: 0.9em; color: #555;\">Using  Prophet Algorithm to Implement a Demand Forecasting Model with Python(Currently A Work In Progress)</div>\n",
    "  </div>\n",
    "</div>\n",
    "</a>\n",
    "<a href=\"#\"  style=\"text-decoration: none; color: black;\">\n",
    "<div style=\"width: 300px; border-radius: 15px; margin-right:15px; overflow: hidden; box-shadow: 0 4px 8px rgba(0, 0, 0, 0.1); transition: transform 0.3s;\">\n",
    "  <img src=\"https://images.unsplash.com/photo-1616401784845-180882ba9ba8?q=80&w=1470&auto=format&fit=crop&ixlib=rb-4.0.3&ixid=M3wxMjA3fDB8MHxwaG90by1wYWdlfHx8fGVufDB8fHx8fA%3D%3D\" alt=\"Blog Post Image\" style=\"width: 100%; height: auto; border-radius: 15px 15px 0 0;\">\n",
    "  <div style=\"padding: 15px;\">\n",
    "  <div style=\"font-size: 1.2em; font-weight: bold; margin-bottom: 10px;\">Inventory Optimisation With ARIMA and SARIMA</div>\n",
    "  <div style=\"font-size: 0.9em; color: #555;\">Using Time Series Analysis to forecast the future demand of a given product.(Work in Progress)</div>\n",
    "  </div>\n",
    "</div>\n",
    "</a>\n",
    "\n",
    "</div>"
   ]
  }
 ],
 "metadata": {
  "kaggle": {
   "accelerator": "none",
   "dataSources": [
    {
     "datasetId": 435331,
     "sourceId": 826548,
     "sourceType": "datasetVersion"
    },
    {
     "datasetId": 4456095,
     "sourceId": 7644881,
     "sourceType": "datasetVersion"
    }
   ],
   "isGpuEnabled": false,
   "isInternetEnabled": false,
   "language": "python",
   "sourceType": "notebook"
  },
  "kernelspec": {
   "display_name": "base",
   "language": "python",
   "name": "python3"
  },
  "language_info": {
   "codemirror_mode": {
    "name": "ipython",
    "version": 3
   },
   "file_extension": ".py",
   "mimetype": "text/x-python",
   "name": "python",
   "nbconvert_exporter": "python",
   "pygments_lexer": "ipython3",
   "version": "3.12.4"
  }
 },
 "nbformat": 4,
 "nbformat_minor": 4
}
